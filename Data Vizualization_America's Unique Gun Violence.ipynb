{
 "cells": [
  {
   "cell_type": "markdown",
   "metadata": {},
   "source": [
    "**Revised Version**___**Submitted By:Sikha Rani Das**"
   ]
  },
  {
   "cell_type": "markdown",
   "metadata": {},
   "source": [
    "Ref Article:https://www.vox.com/policy-and-politics/2017/10/2/16399418/us-gun-violence-statistics-maps-charts"
   ]
  },
  {
   "cell_type": "markdown",
   "metadata": {
    "collapsed": true
   },
   "source": [
    "Import Libraries"
   ]
  },
  {
   "cell_type": "markdown",
   "metadata": {},
   "source": [
    "1.0 The vox article \"America’s unique gun violence problem, explained in 17 maps and charts(Ref https://www.vox.com/policy-and-politics/2017/10/2/16399418/us-gun-violence-statistics-maps-charts) provides intuitive visual information and statistics on the topic of America’s unique gun violence problem. United States is amongst the handful of nations where gun possession is constitutionally protected. The article focuses on the various issues related to gun violence in the U.S.such as\tFirearm homicides compared with other developed countries, Deaths due to firearms, Different causes of Gun Deaths ,Correlation between gun control laws and gun violenc,Public Opinion on different topics of gun violence. \n",
    "\n",
    "2.0 Taking this data product as a reference I have redesigned the 3 charts(of Chart No.:6,8 & 16) and have also created 3 deceptive charts(of Chart No.:6,8 & 16).I have used following as toolkits for the same:\n",
    "\n",
    "\n",
    "1.**The Six Fundamental Principles of Analytical Design by Edward Tufte** (Ref:www.datadesignpenn.com/s/The-Fundamental-Principles.doc)\n",
    "\n",
    "(will be referred as **Principles of Analytical Design** hereafter in the dataproduct)\n",
    "\n",
    "Principal #1: Comparisons: Show comparisons, contrasts, and differences. Vizualization is meant for compare, contrast and find differences.\n",
    "\n",
    "Principal #2  Causality, mechanism, explanation: Show causality, mechanism, explanation, and systematic structure.  How was the information that is represented caused? What are the sources of differences and variability in the measurements?\n",
    "\n",
    "Principal #3 Multivariate Analysis: Show multivariate analysis; that is show more than 1 or 2 variables. Don’t use one column, add multiple variables, by adding axis, bringing multiple data source, refine data, slice data ,manipulate  data, wrangle dataDepicting the conditions under which a cause and effect occur quickly becomes multivariate. \n",
    "\n",
    "Principal #4 Integration of Evidence: If you need to have causality you need to bring multiple data sources together. Integrate words, numbers, images, diagrams, graphics, charts, etc. \n",
    "\n",
    "Principal #5 DocumentationThoroughly describe the evidence. Provide a detailed title, indicate the authors and sponsors, document the data sources, show complete measurement scales, point out relevant issues. Credibility, bias, and responsibility of authorship must be taken into account when accessing evidence.\n",
    "\n",
    "Principal #6 Relevance:Analytical presentations ultimately stand and fall depending on the quality, relevance, and integrity of their content. \n",
    "\n",
    "2.**An Argumentation Model**:(Ref:https://en.wikipedia.org/wiki/Toulmin_method)\n",
    "(will be referred as **An Argumentation Model** hereafter in the dataproduct)\n",
    "Tt involves the grounds (data), claim, and warrant of an argument. These three parts of the argument are all necessary to support a good argument. The grounds are the evidence used to prove a claim. The warrant is the assumption or principle that connects the grounds to the claim. All three parts are critical to achieving rhetorical analysis.\n",
    "\n",
    "3.**Goal-Questions-Metrics (GQM) approach**:(Ref:https://en.wikipedia.org/wiki/GQM)\n",
    "(will be referred as **GQM** hereafter in the dataproduct)\n",
    "GQM defines a  model on three levels\n",
    "Conceptual level (Goal) \n",
    "A goal is defined for an object, for a variety of reasons, with respect to various models of quality, from various points of view and relative to a particular environment.\n",
    "Operational level (Question) \n",
    "A set of questions is used to define models of the object of study and then focuses on that object to characterize the assessment or achievement of a specific goal.\n",
    "Quantitative level (Metric) \n",
    "A set of metrics, based on the models, is associated with every question in order to answer it in a measurable way.\n",
    "\n",
    "4. **The Audience Model&&:\n",
    "We matched the audience (Want, Need, Fear) with our visualizations (Claim, Metrics, Truth Continuum).\n",
    "\n",
    "5.  Encodings:Colors(Hue for Categorical , Saturation for Numerical), Size & Shape\n",
    "\n",
    "6.  Data Pixel Ratio\n"
   ]
  },
  {
   "cell_type": "markdown",
   "metadata": {},
   "source": [
    "#Import Libraries"
   ]
  },
  {
   "cell_type": "code",
   "execution_count": 2,
   "metadata": {},
   "outputs": [
    {
     "ename": "SyntaxError",
     "evalue": "(unicode error) 'unicodeescape' codec can't decode bytes in position 2-3: truncated \\UXXXXXXXX escape (<ipython-input-2-5fa0fc93ebe8>, line 19)",
     "output_type": "error",
     "traceback": [
      "\u001b[1;36m  File \u001b[1;32m\"<ipython-input-2-5fa0fc93ebe8>\"\u001b[1;36m, line \u001b[1;32m19\u001b[0m\n\u001b[1;33m    path =\"C:\\Users\\shikh\\Desktop\\Revised-design\\Revised_Version\"\u001b[0m\n\u001b[1;37m         ^\u001b[0m\n\u001b[1;31mSyntaxError\u001b[0m\u001b[1;31m:\u001b[0m (unicode error) 'unicodeescape' codec can't decode bytes in position 2-3: truncated \\UXXXXXXXX escape\n"
     ]
    }
   ],
   "source": [
    "# print aLL the outputs in a ceLL\n",
    "from IPython.core.interactiveshell import InteractiveShell\n",
    "InteractiveShell.ast_node_interactivity = \"all\"\n",
    "\n",
    "from IPython.display import Image\n",
    "from IPython.display import Image,display\n",
    "from IPython.core.display import display, HTML\n",
    "import altair as alt\n",
    "\n",
    "import pandas as pd\n",
    "import numpy as np\n",
    "import seaborn as sns\n",
    "%pylab inline\n",
    "\n",
    "import sklearn as sk\n",
    "import sklearn.tree as tree\n",
    "from IPython.display import Image\n",
    "import pydotplus\n",
    "path =\"C:\\Users\\shikh\\Desktop\\Revised-design\\Revised_Version\"\n",
    "\n",
    "import plotly\n",
    "import plotly.graph_objs as go\n",
    "from plotly import tools\n",
    "import plotly.tools as tls\n",
    "plotly.offline.init_notebook_mode()\n",
    "from plotly.offline import init_notebook_mode, iplot\n",
    "init_notebook_mode()\n",
    "\n",
    "import matplotlib\n",
    "import matplotlib.pyplot as plt \n",
    "\n",
    "import seaborn as sns \n",
    "color = sns.color_palette()\n"
   ]
  },
  {
   "cell_type": "markdown",
   "metadata": {
    "collapsed": true
   },
   "source": [
    "**1.0 Redesign Chart No.6 of Vox Article **:"
   ]
  },
  {
   "cell_type": "code",
   "execution_count": 5,
   "metadata": {},
   "outputs": [
    {
     "data": {
      "text/html": [
       "<table><tr><td><img src=\"https://github.com/Sikhadasr/MSIS2629_SIKHA/blob/master/IMAGES/61.png?raw=true\" style=\"width=300px;\"/></td>              </tr></table>"
      ],
      "text/plain": [
       "<IPython.core.display.HTML object>"
      ]
     },
     "metadata": {},
     "output_type": "display_data"
    }
   ],
   "source": [
    "## Obtain a side by side view of original and redesigned version\n",
    "display(HTML('<table><tr><td><img src=\"https://github.com/Sikhadasr/MSIS2629_SIKHA/blob/master/IMAGES/61.png?raw=true\" style=\"width=300px;\"/></td> \\\n",
    "             </tr></table>'))"
   ]
  },
  {
   "cell_type": "markdown",
   "metadata": {
    "collapsed": true
   },
   "source": [
    "**Claim as per Chart No.6 of the Original Article**(Ref https://www.vox.com/policy-and-politics/2017/10/2/16399418/us-gun-violence-statistics-maps-charts): It’s not just the US: Developed countries with more guns also have more gun deaths.\n",
    "\n",
    "**Original Vs First Redesign**:\n",
    "\n",
    "1. In the original chart  scatter plot is used to show the relationship between gun ownership and firearm deaths.The chart looks overcrowded because a lot of data is concentrated at left bottom.It becomes difficult to compare.\n",
    "\n",
    "I used bar chart to make a more clear comaprison between countries, more the length of the bar more is the firearm death or gun ownership which is also in line with 1st principle of Analytical Design\n",
    "\n",
    "2. Original chart uses color to represent countries unnecessarily. I used saturation to highlight differences in my first redesign.(Encoding with color). "
   ]
  },
  {
   "cell_type": "code",
   "execution_count": 7,
   "metadata": {},
   "outputs": [
    {
     "data": {
      "text/html": [
       "<table><tr><td><img src=\"https://github.com/Sikhadasr/MSIS2629_SIKHA/blob/master/IMAGES/62.png?raw=true\" style=\"width=300px;\"/></td>              </tr></table>"
      ],
      "text/plain": [
       "<IPython.core.display.HTML object>"
      ]
     },
     "metadata": {},
     "output_type": "display_data"
    }
   ],
   "source": [
    "display(HTML('<table><tr><td><img src=\"https://github.com/Sikhadasr/MSIS2629_SIKHA/blob/master/IMAGES/62.png?raw=true\" style=\"width=300px;\"/></td> \\\n",
    "             </tr></table>'))"
   ]
  },
  {
   "cell_type": "markdown",
   "metadata": {},
   "source": [
    "\n",
    "**Making of Revised Redesign of Chart-6**:\n",
    "\n",
    "**First Redesign vs Revised Redesign**:Considering the following flaws in my first redesign versions i considered the revision:\n",
    "\n",
    "1.In my 1st redesign I considred all the countries. However, As per the claim the comparison we want to make is between two groups of developed countries(with Higher and low gun ownership) and how firearm  deaths vary in these two groups of developed countries.\n",
    "\n",
    "In the revised redesign I would like to  focus the graph on the comparison we want to make. I would  group  developed countries into two groups one with 'HIGHER GUN OWNERSHIP' and one with 'LOWER GUN OWNERSHIP' and see GUN RELATED DEATHS(PER 100,000 PEOPLE)' vary in these two groups of developed countries.(as per GQM approach which says metric should match the goal)\n",
    "\n",
    "2.For many countries France, like though gun ownership is high but homicide by firearm is less compared to countries with less firearm ownership like Italy, Belgium etc which leaves a scope for rebuttal.So dividing into only two groups will help remove this scope.(address fear of audience as per Audience Model)\n",
    "\n",
    "3. In the first version, i used two bar charts in one bar chart ‘Average firearms per 100 people for developed countries and ‘Homicide by firearm rate per 100,000 pop  for developed countries in the other. Instead of two charts I would use one chart for ease of comparison(Principle 4 of Analytical Design & also )\n",
    "\n",
    "4.I used raw rate. This time I would like to take to take refined/transforemd data for vizualization since the chart made with the refined data will take me closer to my claim.(Multivariate Analysis)\n",
    "\n",
    "5.I used only one firearm homicide dataset in my first redesign.To make the claim more stronger thorough integration of evidence,  i would like to integrate the my previous dataset with Total firearm deaths to consider not only homicide death but total firearm death(Principle 4 of Analytical Design). \n",
    "\n",
    "6. There was no proper tiltle in the 1st redesign of chart-6. I would include proper title in my revised version(Principle 5 of Analytical Design)\n",
    "\n",
    "**Audience**: Audience for my revised redesign is Gun control advocacy groups in the United States whose goal is to decresse gun ownership and increase tighter gun control laws.(want of audience as per audience model)\n",
    "\n",
    "**Claim for redesign**:Not just the US: Developed countries with more guns also have more gun deaths, which is in line with the want of the audience(as per audience model)\n",
    "\n",
    "**Data **: To meet the need of the goal(as per GQM)  I have collected data from the following sources:\n",
    "Data Collection:\n",
    "1.Following the link in the 1st chart, I could collect the data at the following link:\n",
    "\n",
    "Dataset1:Firearm related death rate data:\n",
    "\n",
    "https://en.wikipedia.org/w/index.php?title=List_of_countries_by_firearm-related_death_rate&oldid=528540673\n",
    "\n",
    "I copied the data from the link and saved as CSV file\n",
    "\n",
    "Dataset2: Firearm Ownership data at the following link:\n",
    "https://docs.google.com/spreadsheets/d/1chqUZHuY6cXYrRYkuE0uwXisGaYvr7durZHJhpLGycs/edit#gid=0. \n",
    "\n",
    "\n",
    "**Step-2, Data Wrangling**:   \n",
    "\n",
    "1.0 **Chart6_Redesign_Dataset1**:\n",
    "\n",
    "1.1 First I read the dataset from my local folder.The dataset has Country/Territory,ISO code,Source, % of homicides       by firearm, Number of homicides by firearm,Homicide by firearm rate per 100,000 pop,Rank by rate of ownership,Average       firearms per 100 people,Average total all civilian firearms as Columns and each row represents one country.\n",
    "\n",
    "1.2 I removed the NA and duplicate values.\n",
    "\n",
    "1.3 Thereafter, I made one dataframe containg only necessary columns(i.e.Country/Territory','Average firearms per 100 people') to make the chart.\n",
    "\n",
    "1.4 I defined a list of all the developed countries as considered in the original chart.\n",
    "\n",
    "1.5 I got the final dataframe, containing only developed countries defined above.\n",
    "\n",
    "1.6 Strip spaces from Country/Territory column\n",
    "\n",
    "**2.0 Chart6_Redesign_Dataset2**: \n",
    "\n",
    "2.1 First I read the dataset from my local folder.The dataset has 'Country', 'Total firearm-related death rate','Homicides', 'Suicides','Unintentional', 'Undetermined','Year' Sources and notes as Columns and each row represents one country.\n",
    "\n",
    "2.3 Thereafter, I made one dataframe containg only necessary columns(i.e.'Country/Territory','Total firearm-related death rate') to make the chart(as per GQM)\n",
    "\n",
    "**3.0 Refine data** I made a new column 'Extent of Gun Ownership per 100 people' to divide the developed countries into two segments;  High Gun Ownership Developed Coutries if Gun ownership per 100 people is above or equal to mean ownership else \n",
    "Low Gun Ownership Developed Coutries(As per GQM model metric should match the goal)\n",
    "\n",
    "#Details steps are as follows:"
   ]
  },
  {
   "cell_type": "code",
   "execution_count": 4,
   "metadata": {},
   "outputs": [
    {
     "data": {
      "text/html": [
       "<div>\n",
       "<style>\n",
       "    .dataframe thead tr:only-child th {\n",
       "        text-align: right;\n",
       "    }\n",
       "\n",
       "    .dataframe thead th {\n",
       "        text-align: left;\n",
       "    }\n",
       "\n",
       "    .dataframe tbody tr th {\n",
       "        vertical-align: top;\n",
       "    }\n",
       "</style>\n",
       "<table border=\"1\" class=\"dataframe\">\n",
       "  <thead>\n",
       "    <tr style=\"text-align: right;\">\n",
       "      <th></th>\n",
       "      <th>MEAN GUN RELATED DEATHS PER 100,000 PEOPLE</th>\n",
       "    </tr>\n",
       "  </thead>\n",
       "  <tbody>\n",
       "    <tr>\n",
       "      <th>count</th>\n",
       "      <td>2.000000</td>\n",
       "    </tr>\n",
       "    <tr>\n",
       "      <th>mean</th>\n",
       "      <td>2.196880</td>\n",
       "    </tr>\n",
       "    <tr>\n",
       "      <th>std</th>\n",
       "      <td>0.996537</td>\n",
       "    </tr>\n",
       "    <tr>\n",
       "      <th>min</th>\n",
       "      <td>1.492222</td>\n",
       "    </tr>\n",
       "    <tr>\n",
       "      <th>25%</th>\n",
       "      <td>1.844551</td>\n",
       "    </tr>\n",
       "    <tr>\n",
       "      <th>50%</th>\n",
       "      <td>2.196880</td>\n",
       "    </tr>\n",
       "    <tr>\n",
       "      <th>75%</th>\n",
       "      <td>2.549209</td>\n",
       "    </tr>\n",
       "    <tr>\n",
       "      <th>max</th>\n",
       "      <td>2.901538</td>\n",
       "    </tr>\n",
       "  </tbody>\n",
       "</table>\n",
       "</div>"
      ],
      "text/plain": [
       "       MEAN GUN RELATED DEATHS PER 100,000 PEOPLE\n",
       "count                                    2.000000\n",
       "mean                                     2.196880\n",
       "std                                      0.996537\n",
       "min                                      1.492222\n",
       "25%                                      1.844551\n",
       "50%                                      2.196880\n",
       "75%                                      2.549209\n",
       "max                                      2.901538"
      ]
     },
     "execution_count": 4,
     "metadata": {},
     "output_type": "execute_result"
    }
   ],
   "source": [
    "## 1.1 Read Data Dataset1\n",
    "Gun_ownership = pd.read_csv(path +'\\Redesign_Chart6_World firearms murders and ownership.csv')\n",
    "\n",
    "##1.2: Remove NA and duplicates(if any)\n",
    "Gun_ownership=Gun_ownership.dropna()\n",
    "Gun_ownership=Gun_ownership.drop_duplicates()\n",
    "\n",
    "##1.3: Make one dataframe with 'Country/Territory'& Average firearms per 100 people columns\n",
    "Gun_ownership = Gun_ownership.loc[:,['Country/Territory',\\\n",
    "                                                         'Average firearms per 100 people']]\n",
    "\n",
    "##1.4 Define a list of developed countries:\n",
    "a= ['United States','Switzerland', 'Canada','Finland','Croatia','France','New Zealand','Norway',\\\n",
    "    'Greece','Sweden','Iceland','Germany',\\\n",
    "    'Cyprus','Argentina','Barbados','Estonia','Slovenia','Belgiam','Malta','Israel','Czech Republic','Lithunia','Denmark','Latvia',\n",
    "    'Ireland','Australia','Hungary','Spain','Netherlands','UK','Singapore','South Korea','Qatar','Chile','Japan']\n",
    "    \n",
    "##1.5 Make a new datafarme containing only developed countries defined in list a above\n",
    "Gun_ownership=Gun_ownership.loc[Gun_ownership['Country/Territory'].isin(a)]\n",
    "\n",
    "## 1.6 strip spaces from Country/Territory column\n",
    "Gun_ownership['Country/Territory'] = Gun_ownership['Country/Territory'].str.strip()\n",
    "\n",
    "## 2.1 Read Data dataset2\n",
    "Gun_deaths = pd.read_csv(path +'\\\\Redesign_Chart6_Gundeaths.csv')\n",
    "\n",
    "## 2.2 Make a new dataframe with necessary columns\n",
    "Gun_deaths = Gun_deaths.loc[:,['Country','Total firearm-related death rate']]\n",
    "\n",
    "### 2.3 strip spaces from Country/Territory column\n",
    "Gun_deaths['Country'] = Gun_deaths['Country'].str.strip()\n",
    "\n",
    "##MergeGun_ownership and Gundeaths datasets:\n",
    "Gunownership_deaths =Gun_deaths.merge(Gun_ownership, left_on = \"Country\", right_on = \"Country/Territory\").\\\n",
    "sort_values(by='Total firearm-related death rate', ascending =False)\n",
    "\n",
    "##Drop additional country column\n",
    "Redesign_chart6_data=Gunownership_deaths.drop('Country/Territory', axis=1)\n",
    "\n",
    "##Name the columns\n",
    "Redesign_chart6_data.columns=[['Country','GUN RELATED DEATHS PER 100,000 PEOPLE', 'firearm_ownership']]\n",
    "\n",
    "## Refine data: II made a new column 'Extent of Gun Ownership per 100 people' to divide the developed countries into two segments.\n",
    "\n",
    "Redesign_chart6_data.loc[Redesign_chart6_data.firearm_ownership>=Redesign_chart6_data['firearm_ownership'].mean(),\\\n",
    "                         'Extent of Gun Ownership per 100 people'] = \\\n",
    "                                                          'High Gun Ownership Developed Coutries'\n",
    "                                                                                    \n",
    "Redesign_chart6_data.loc[Redesign_chart6_data.firearm_ownership< Redesign_chart6_data['firearm_ownership'].mean(),\\\n",
    "                         'Extent of Gun Ownership per 100 people'] = \\\n",
    "                                                          'Low Gun Ownership Developed Coutries'\n",
    "\n",
    "##Thereafter, I group by the 'Ownership Rate' column and get mean value of \n",
    "Redesign_chart6_refined_data= Redesign_chart6_data.groupby('Extent of Gun Ownership per 100 people', as_index=False).\\\n",
    "                            agg({'GUN RELATED DEATHS PER 100,000 PEOPLE':'mean'})\n",
    "\n",
    "Redesign_chart6_refined_data.columns= [['Extent of Gun Ownership per 100 people', 'MEAN GUN RELATED DEATHS PER 100,000 PEOPLE']]\n",
    "\n",
    "##Download CSV\n",
    "Redesign_chart6_refined_data.to_csv('Redesign_chart6_refined_data.csv', index=False)\n",
    "\n",
    "##Key statistics \n",
    "Redesign_chart6_refined_data.describe()\n"
   ]
  },
  {
   "cell_type": "markdown",
   "metadata": {},
   "source": [
    "** Warrant**:\n",
    " Since Bar chart is the right choice to make comparison between the variables or categories with each other,I used bar chart to warrant my claim with 'Extent of Gun Ownership per 100 people' on the x axis and 'MEAN GUN RELATED DEATHS PER 100,000 PEOPLE' on the Y axis.A plotted the chart using Tableau which is available in the following link and screen shot below.\n",
    " \n",
    " https://public.tableau.com/profile/sikhardas#!/vizhome/Revised_Redesign_Chart6/Revised_Redesign_Chart6?publish=yes\n",
    " "
   ]
  },
  {
   "cell_type": "code",
   "execution_count": 8,
   "metadata": {},
   "outputs": [
    {
     "data": {
      "text/html": [
       "<table><tr><td><img src=\"https://github.com/Sikhadasr/MSIS2629_SIKHA/blob/master/IMAGES/Revised_Redesign_Chart6.png?raw=true\" style=\"width=200px;\"/></td>              </tr></table>"
      ],
      "text/plain": [
       "<IPython.core.display.HTML object>"
      ]
     },
     "metadata": {},
     "output_type": "display_data"
    }
   ],
   "source": [
    "display(HTML('<table><tr><td><img src=\"https://github.com/Sikhadasr/MSIS2629_SIKHA/blob/master/IMAGES/Revised_Redesign_Chart6.png?raw=true\" style=\"width=200px;\"/></td> \\\n",
    "             </tr></table>'))"
   ]
  },
  {
   "cell_type": "markdown",
   "metadata": {
    "collapsed": true
   },
   "source": [
    "**Backing**\n",
    "Bar charts represent data as horizontal or vertical bars. **The length of each bar is proportional to the value of the variable.\n",
    "\n",
    "Since length of Bar is longer for countries with high gun ownership and smaller for countries with low gun ownership; Therefore, the chart strongly and clearly supports our claim that  Developed countries with more guns also have more gun deaths. \n",
    "\n",
    "** Qualifier**:The claim is true for US and other developed countries included in the chart.\n",
    "    \n",
    "**Rebuttle**:Since US firearm rate is an outlier, excluding US will change the  relationship. However, in the claim its specifically mentioned its including US, so possible rebuttle is being taken care of.\n"
   ]
  },
  {
   "cell_type": "markdown",
   "metadata": {
    "collapsed": true
   },
   "source": [
    "**Redesign Chart No.8 of Vox Article**:\n"
   ]
  },
  {
   "cell_type": "code",
   "execution_count": 9,
   "metadata": {},
   "outputs": [
    {
     "data": {
      "text/html": [
       "<table><tr><td><img src=\"https://github.com/Sikhadasr/MSIS2629_SIKHA/blob/master/IMAGES/81.png?raw=true\" style=\"width=300px;\"/></td>              </tr></table>"
      ],
      "text/plain": [
       "<IPython.core.display.HTML object>"
      ]
     },
     "metadata": {},
     "output_type": "display_data"
    }
   ],
   "source": [
    "\n",
    "display(HTML('<table><tr><td><img src=\"https://github.com/Sikhadasr/MSIS2629_SIKHA/blob/master/IMAGES/81.png?raw=true\" style=\"width=300px;\"/></td> \\\n",
    "             </tr></table>'))"
   ]
  },
  {
   "cell_type": "markdown",
   "metadata": {},
   "source": [
    "**Claim as per Chart No.8 of the Original Article**(Ref https://www.vox.com/policy-and-politics/2017/10/2/16399418/us-gun-violence-statistics-maps-charts): States with tighter gun control laws have fewer gun-related deaths.\n",
    "\n",
    "\n",
    "**Original Vs First Redesign**:\n",
    "\n",
    "1. Maps are a popular choice when it comes to displaying geographical data. However, just because the data can be represented on a map doesn’t mean it should be.If the story is more about comparing data  a map is not the most effective method. Compasrion between gun control and firearm deaths was not very clear from the graph.\n",
    "\n",
    "I used bar chart to make a more clear comprison between countries, more the length of the bar more is the firearm death or gun ownership which is also in line with 1st principle of Analytical Design\n",
    "\n",
    "2. The map is superimposed and does not provide a clear picture. Its not very clear from the map how gun control laws are related to firearm death. I have tried to compare side by side how gun control is related to firearm deaths which is also in line with 1st principle of Analytical Design\n",
    "\n",
    "3. The chart  does  compares one firearm law.To make this comparison more holistic I tried to find data on overall firearm laws for each of the US States. (Principal #4 of analytic design)\n",
    "\n",
    "4. The chart does not have a title. I incorporated title in my redesign(Principal #5 of analytic design)"
   ]
  },
  {
   "cell_type": "code",
   "execution_count": 11,
   "metadata": {},
   "outputs": [
    {
     "data": {
      "text/html": [
       "<table><tr><td><img src=\"https://github.com/Sikhadasr/MSIS2629_SIKHA/blob/master/IMAGES/82.png?raw=true\" style=\"width=300px;\"/></td>              </tr></table>"
      ],
      "text/plain": [
       "<IPython.core.display.HTML object>"
      ]
     },
     "metadata": {},
     "output_type": "display_data"
    }
   ],
   "source": [
    "display(HTML('<table><tr><td><img src=\"https://github.com/Sikhadasr/MSIS2629_SIKHA/blob/master/IMAGES/82.png?raw=true\" style=\"width=300px;\"/></td> \\\n",
    "             </tr></table>'))"
   ]
  },
  {
   "cell_type": "markdown",
   "metadata": {},
   "source": [
    "\n",
    "\n",
    "\n",
    "**Making of Revised Redesign of Chart-8**: \n",
    "\n",
    "Considering the following flaws in my first redesign versions i considered the revision:\n",
    "\n",
    "**First Redesign vs Revised Redesign**:\n",
    "\n",
    "\n",
    "1.In my 1st redesign I considred all the individual states.However, our goal is not comparison between individual states but comparison between two groups of states(with tighter and lesser gun control) and how firearm deaths vary in these two groups of states.\n",
    "\n",
    "In the revised redesign I would like to focus the graph on the comparison between two groups of states(with tighter and lesser gun control) and how firearm deaths vary in these two groups of states.(as per GQM approach)\n",
    "\n",
    "2.For many states NM, MD like though gun control is tighter  but firearm death is still high  which leaves a scope for rebuttal.So dividing into only two groups will help remove this scope.(address fear of audience as per Audience Model)\n",
    "\n",
    "3. This time I would like to take to take refined/transforemd data for vizualization since the chart made with the refined data will take me closer to my claim.(Multivariate Analysis:Principal #3 of analytic design).\n",
    "\n",
    "4. I would like to add source and other context in my revised redesign which is missing in my first version.(Principal #5 of analytic design)\n",
    "\n",
    "\n",
    "**Audience**: Audience for my revised redesign is Gun control advocacy groups in the United States whose goal is to decresse gun ownership and increase tighter gun control laws(want of audience as per audience model).\n",
    "\n",
    "**Claim for redesign:States with tighter gun control laws have fewer gun-related deaths**\n",
    "\n",
    "**Data **: To meet the need of the goal(as per GQM)  I have collected data from the following sources:\n",
    "\n",
    " \n",
    "**Step-1, Data Collection**:\n",
    "\n",
    "1.I got data for state wise number of firearm laws at:\n",
    "\n",
    "https://www.statefirearmlaws.org/table.html\n",
    "\n",
    "Data is also available as Deception_Chart10_results_firearm_homicide.csv at https://drive.google.com/open?id=1Zd82VJLR0VdymR1YvNA0m86L7lqy6fNT .This data provides more detailed information about each state and what gun laws are applicable there.\n",
    "\n",
    "I got state-wise firearm death rate at the following link: https://www.cdc.gov/nchs/pressroom/sosmap/firearm_mortality/firearm.htm\n",
    "Since in this dataset State names are abbreviated so I got a dataset for abbreviations of US states\\ at the following link for the purpose of merge: http://www.fonz.net/blog/archives/2008/04/06/csv-of-states-and-state-abbreviations/\n",
    "\n",
    "**Step-2, Data Wrangling**:\n",
    "\n",
    "2.1First I read the dataset for suicide and homicide separetely from my local folder.Both,the dataset has Sex,Race, State,Ethnicity,Age Group,First Year,Last Year,Cause of Death,Year,Deaths,Population,Crude Rate as Columns and each row represents data for a year for the particular cause of death.\n",
    "\n",
    "2.2 Thereafter, I merged the two datasets and removed the NA and duplicate values.\n",
    "\n",
    "2.3 I converted year column to type numeric.\n",
    "\n",
    "2.4 I made the final dataframe containing only the years from 1999 to 2007.\n",
    "\n",
    "**3.0 Refine/Transfor Data(following Metrics as per goal in GQM**:\n",
    " I made a new column 'Extent of Gun Control Laws in States' to divide the states  into two segments;  STATES WITH TIGHTER GUN CONTROL have Total Number of Gun Control laws  above or equal to mean gun control laws of states and STATES WITH LESS GUN CONTROL have Total Number of Gun Control laws  lower than the mean gun control laws of states\n",
    "\n",
    "\n",
    "**Detailed steps are shown below**:"
   ]
  },
  {
   "cell_type": "code",
   "execution_count": 8,
   "metadata": {},
   "outputs": [
    {
     "data": {
      "text/html": [
       "<div>\n",
       "<style>\n",
       "    .dataframe thead tr:only-child th {\n",
       "        text-align: right;\n",
       "    }\n",
       "\n",
       "    .dataframe thead th {\n",
       "        text-align: left;\n",
       "    }\n",
       "\n",
       "    .dataframe tbody tr th {\n",
       "        vertical-align: top;\n",
       "    }\n",
       "</style>\n",
       "<table border=\"1\" class=\"dataframe\">\n",
       "  <thead>\n",
       "    <tr style=\"text-align: right;\">\n",
       "      <th></th>\n",
       "      <th>Mean Number of firearm  deaths per 100,000 total population</th>\n",
       "      <th>Mean of Total Gun Control laws</th>\n",
       "    </tr>\n",
       "  </thead>\n",
       "  <tbody>\n",
       "    <tr>\n",
       "      <th>count</th>\n",
       "      <td>2.000000</td>\n",
       "      <td>2.000000</td>\n",
       "    </tr>\n",
       "    <tr>\n",
       "      <th>mean</th>\n",
       "      <td>11.873346</td>\n",
       "      <td>35.818015</td>\n",
       "    </tr>\n",
       "    <tr>\n",
       "      <th>std</th>\n",
       "      <td>4.638049</td>\n",
       "      <td>33.226220</td>\n",
       "    </tr>\n",
       "    <tr>\n",
       "      <th>min</th>\n",
       "      <td>8.593750</td>\n",
       "      <td>12.323529</td>\n",
       "    </tr>\n",
       "    <tr>\n",
       "      <th>25%</th>\n",
       "      <td>10.233548</td>\n",
       "      <td>24.070772</td>\n",
       "    </tr>\n",
       "    <tr>\n",
       "      <th>50%</th>\n",
       "      <td>11.873346</td>\n",
       "      <td>35.818015</td>\n",
       "    </tr>\n",
       "    <tr>\n",
       "      <th>75%</th>\n",
       "      <td>13.513143</td>\n",
       "      <td>47.565257</td>\n",
       "    </tr>\n",
       "    <tr>\n",
       "      <th>max</th>\n",
       "      <td>15.152941</td>\n",
       "      <td>59.312500</td>\n",
       "    </tr>\n",
       "  </tbody>\n",
       "</table>\n",
       "</div>"
      ],
      "text/plain": [
       "       Mean Number of firearm  deaths per 100,000 total population  \\\n",
       "count                                           2.000000             \n",
       "mean                                           11.873346             \n",
       "std                                             4.638049             \n",
       "min                                             8.593750             \n",
       "25%                                            10.233548             \n",
       "50%                                            11.873346             \n",
       "75%                                            13.513143             \n",
       "max                                            15.152941             \n",
       "\n",
       "       Mean of Total Gun Control laws  \n",
       "count                        2.000000  \n",
       "mean                        35.818015  \n",
       "std                         33.226220  \n",
       "min                         12.323529  \n",
       "25%                         24.070772  \n",
       "50%                         35.818015  \n",
       "75%                         47.565257  \n",
       "max                         59.312500  "
      ]
     },
     "execution_count": 8,
     "metadata": {},
     "output_type": "execute_result"
    }
   ],
   "source": [
    "## 2.1.1 Read firearm_homicide Data\n",
    "firearm_law = pd.read_csv(path + '\\\\Redesign_chart8_raw_data.csv')\n",
    "\n",
    "## 2.1.2 Read firearm_deaths Data\n",
    "firearm_deaths = pd.read_csv(path + '\\\\Redesign_chart8_FIREARMS2016.csv')\n",
    "\n",
    "\n",
    "##2.1.2.1 Read state abbreviations Data:\n",
    "states = pd.read_csv(path + '\\\\Redesign_chart8_states.csv')\n",
    "\n",
    "##2.1.2.2 Merge firearm_deaths and states csv\n",
    "state_wise_deaths =firearm_deaths.merge(states, left_on = \"STATE\", right_on = \"Abbreviation\")\n",
    "\n",
    "## 2.1.2.3 Make a New dataframe with the necessary Columns\n",
    "state_wise_deaths = state_wise_deaths[['State', 'Abbreviation','RATE']]\n",
    "\n",
    "##2.1.3 Merge the firearm_law and State_deaths dataset\n",
    "\n",
    "Redesign_chart8_data =firearm_law.merge(state_wise_deaths, left_on = \"state\", right_on = \"State\")\n",
    "\n",
    "##  Make a new datadrame with only the columns 'State','DEATHS','lawtotal'\n",
    "Redesign_chart8_data = Redesign_chart8_data[['State', 'Abbreviation','RATE', 'lawtotal']].sort_values(by=\"RATE\", ascending=False)\n",
    "\n",
    "\n",
    "##Refine/transform data \n",
    "Redesign_chart8_data.loc[Redesign_chart8_data.lawtotal>= Redesign_chart8_data['lawtotal'].mean(), 'GUN CONTROL'] = \\\n",
    "                                                          'STATES WITH TIGHTER GUN CONTROL '\n",
    "Redesign_chart8_data.loc[Redesign_chart8_data.lawtotal< Redesign_chart8_data['lawtotal'].mean(), 'GUN CONTROL'] = \\\n",
    "                                                          'STATES WITH LESS GUN CONTROL'\n",
    "Redesign_chart8_refined_data = Redesign_chart8_data.groupby('GUN CONTROL', as_index=False).agg({'RATE':'mean','lawtotal':'mean'})\n",
    "\n",
    "Redesign_chart8_refined_data.columns= [['Extent of Gun Control Laws in States','Mean Number of firearm  deaths per 100,000 total population','Mean of Total Gun Control laws' ]] \n",
    "##Download CSV\n",
    "Redesign_chart8_refined_data.to_csv('Redesign_chart8_refined_data.csv', index=False)\n",
    "\n",
    "##Key statistics \n",
    "Redesign_chart8_refined_data.describe()"
   ]
  },
  {
   "cell_type": "markdown",
   "metadata": {},
   "source": [
    "**Warrant**:\n",
    "I used bar chart to warrant my claim. Since Bar chart is the right choice to make comparison between the variables or categories with each other.At last, I made bar plot with 'Extent of Gun Control Laws in States' on the x-axis, 'Mean Number of firearm deaths per 100,000 total population' on the y-axis.A plotted the chart using Tableau which is available in the following link and screen shot below.\n",
    "Tableau Link:\n",
    "https://public.tableau.com/profile/sikhardas#!/vizhome/Revised_Redesign_Chart8/Sheet2?publish=yes"
   ]
  },
  {
   "cell_type": "code",
   "execution_count": 12,
   "metadata": {},
   "outputs": [
    {
     "data": {
      "text/html": [
       "<table><tr><td><img src=\"https://github.com/Sikhadasr/MSIS2629_SIKHA/blob/master/IMAGES/Revised_Redesign_Chart8.png?raw=true\" style=\"width=200px;\"/></td>              </tr></table>"
      ],
      "text/plain": [
       "<IPython.core.display.HTML object>"
      ]
     },
     "metadata": {},
     "output_type": "display_data"
    }
   ],
   "source": [
    "display(HTML('<table><tr><td><img src=\"https://github.com/Sikhadasr/MSIS2629_SIKHA/blob/master/IMAGES/Revised_Redesign_Chart8.png?raw=true\" style=\"width=200px;\"/></td> \\\n",
    "             </tr></table>'))\n"
   ]
  },
  {
   "cell_type": "markdown",
   "metadata": {},
   "source": [
    "**Backing**\n",
    "Bar charts represent data as horizontal or vertical bars. **The length of each bar is proportional to the value of the variable\n",
    "Since length of Bar is smaller for states with high gun control and longer for countries with low gun control; Therefore, the chart strongly and clearly supports our claim States with tighter gun control laws have fewer gun-related deaths.\n",
    "\n",
    "** Qualifier**:It is assumed that all the gun control laws have equal weightage.\n",
    "    \n",
    "**Rebuttle**:If we give specific weights to specific gun control laws than it may give different result. However, I have specifically assumed for the purpose of redesign that all the gun control laws have equal weightage."
   ]
  },
  {
   "cell_type": "markdown",
   "metadata": {},
   "source": [
    "**3.0 Redesign Chart No.16 of Vox Article**:"
   ]
  },
  {
   "cell_type": "code",
   "execution_count": 13,
   "metadata": {},
   "outputs": [
    {
     "data": {
      "text/html": [
       "<table><tr><td><img src=\"https://github.com/Sikhadasr/MSIS2629_SIKHA/blob/master/IMAGES/161.png?raw=true\" style=\"width=300px;\"/></td>              </tr></table>"
      ],
      "text/plain": [
       "<IPython.core.display.HTML object>"
      ]
     },
     "metadata": {},
     "output_type": "display_data"
    }
   ],
   "source": [
    "display(HTML('<table><tr><td><img src=\"https://github.com/Sikhadasr/MSIS2629_SIKHA/blob/master/IMAGES/161.png?raw=true\" style=\"width=300px;\"/></td> \\\n",
    "             </tr></table>'))"
   ]
  },
  {
   "cell_type": "markdown",
   "metadata": {},
   "source": [
    "**Claim as per Chart No.16 of the Original Article(Ref https://www.vox.com/policy-and-politics/2017/10/2/16399418/us-gun-violence-statistics-maps-charts)**: High-profile shootings don’t appear to lead to more support for gun control in the long term\n",
    "**Scope of redesign**:\n",
    "\n",
    "Original Vs First Redesign\n",
    "\n",
    "1. In the article, chart for point number 16 shows control gun ownership vs protect right to own guns before and after major shootings. In the Original Chart they used only 6 data points as provided in the articles.\n",
    "\n",
    "I wanted to take a more holistic view and see the trend for these two points over 2 decades(1993 to 2012). This analysis would provide more information about support of “control gun ownership” and “protect right to own guns” .\n",
    "\n",
    "2. The article used stacked bar chart; However, since for both control gun ownership vs protect right to own guns the unit is percentage  so i used line chart with dual axis.This makes the comparison very easy which is also in line with 1st principle of Analytical Design.\n",
    "\n",
    "3.Absence of Y-axis and Labels makes it difficult to comprehend in the first glance or 5 seconds and also in the chart labels are not did not specifically mentioned. So I incorporated Labels and X& Y axis in my first deceptive verison to make my argument easy to understand and hence more compelling.(Principle 5 of Analytical Design)"
   ]
  },
  {
   "cell_type": "code",
   "execution_count": 14,
   "metadata": {},
   "outputs": [
    {
     "data": {
      "text/html": [
       "<table><tr><td><img src=\"https://github.com/Sikhadasr/MSIS2629_SIKHA/blob/master/IMAGES/162.png?raw=true\" style=\"width=300px;\"/></td>              </tr></table>"
      ],
      "text/plain": [
       "<IPython.core.display.HTML object>"
      ]
     },
     "metadata": {},
     "output_type": "display_data"
    }
   ],
   "source": [
    "display(HTML('<table><tr><td><img src=\"https://github.com/Sikhadasr/MSIS2629_SIKHA/blob/master/IMAGES/162.png?raw=true\" style=\"width=300px;\"/></td> \\\n",
    "             </tr></table>'))"
   ]
  },
  {
   "cell_type": "markdown",
   "metadata": {
    "collapsed": true
   },
   "source": [
    "\n",
    "\n",
    "\n",
    "**Making of Revised Redesign of Chart-16**: \n",
    "\n",
    "Considering the following flaws in my first redesign versions i considered the revision:\n",
    "\n",
    "**First Redesign vs Revised Redesign**:\n",
    "\n",
    "\n",
    "1.In my 1st redesign, i used information about support of “control gun ownership” and “protect right to own guns” for over a decade and I could see a trend.To make my claim more stronger and relevant,  I am considering data for the year from 1993 to 2012 where there is atleast one mass shooting.(Principle 4&6 of Analytical Design)\n",
    "\n",
    "2. Though, I wanted to see the trend but I did not include any trendline.So for the redesign I would like to add a trend line.\n",
    "\n",
    "3.I used raw rate. This time I would like to take to take refined data for vizualization and take years where atleast one mass shooting occured .(Multivariate Analysis)\n",
    "\n",
    "4. I would like to add source and other context in my revised redesign which is missing in my first version.(Principle 5 of Analytical Design)\n",
    "\n",
    "5.I have not indicated the data used in the chart is relevant to which year, is it current or for a specific year.(Principle 5 of Analytical Design)\n",
    "\n",
    "**Audience**: Audience for my revised redesign is Vox article readers Who wants to know how people support and oppose gun control.(audience model)\n",
    "\n",
    "**Claim for redesign:High-profile shootings don’t appear to lead to more support for gun control in the long term**\n",
    "\n",
    "**Data **: To meet the need of the goal(as per GQM)  I have collected data from the following sources:\n",
    "\n",
    "Step-1, Data Collection**: Following the link in the chart no.16, I could collect the data at the following link: http://www.people-press.org/2012/07/29/july-26-29-2012-weekly-survey/\n",
    "\n",
    "Dataset was found from PEW RESEARCH CENTER,July 26-29, 2012  SURVEY as reponse to Q.24 . Since the dataset was in pdf form.So I first converted the data to excel.\n",
    "\n",
    "\n",
    "**Step-2, Data Wrangling:\n",
    "\n",
    "3.1 First I read the dataset from my local folder.The  dataset has percentage of people in support of Protect right to own guns, Control gun ownership as Columns and each row represents data for random months of year .\n",
    "\n",
    "3.2 I made a new column Year from DATE Column and then convert year column to type numeric.\n",
    "\n",
    "3.3 Next, I made one new dataframe with columns aggregated by average for each year.\n",
    "\n",
    "3.4 Finally, I made the final dataframe containing data only for the years 1993 to 2013\n",
    "\n",
    "**Refine data**:\n",
    "Consider the years where there was atleast one mass shooting.\n"
   ]
  },
  {
   "cell_type": "code",
   "execution_count": 12,
   "metadata": {},
   "outputs": [
    {
     "data": {
      "text/html": [
       "<div>\n",
       "<style>\n",
       "    .dataframe thead tr:only-child th {\n",
       "        text-align: right;\n",
       "    }\n",
       "\n",
       "    .dataframe thead th {\n",
       "        text-align: left;\n",
       "    }\n",
       "\n",
       "    .dataframe tbody tr th {\n",
       "        vertical-align: top;\n",
       "    }\n",
       "</style>\n",
       "<table border=\"1\" class=\"dataframe\">\n",
       "  <thead>\n",
       "    <tr style=\"text-align: right;\">\n",
       "      <th></th>\n",
       "      <th>Year</th>\n",
       "      <th>% People supporting rights of Americans to own guns</th>\n",
       "      <th>% People supporting control on gun ownership</th>\n",
       "      <th>Total Number of Mass Shootings</th>\n",
       "    </tr>\n",
       "  </thead>\n",
       "  <tbody>\n",
       "    <tr>\n",
       "      <th>count</th>\n",
       "      <td>11.000000</td>\n",
       "      <td>11.000000</td>\n",
       "      <td>11.000000</td>\n",
       "      <td>11.000000</td>\n",
       "    </tr>\n",
       "    <tr>\n",
       "      <th>mean</th>\n",
       "      <td>2005.090909</td>\n",
       "      <td>39.969697</td>\n",
       "      <td>54.333333</td>\n",
       "      <td>3.090909</td>\n",
       "    </tr>\n",
       "    <tr>\n",
       "      <th>std</th>\n",
       "      <td>5.906853</td>\n",
       "      <td>5.907066</td>\n",
       "      <td>5.832381</td>\n",
       "      <td>1.972539</td>\n",
       "    </tr>\n",
       "    <tr>\n",
       "      <th>min</th>\n",
       "      <td>1993.000000</td>\n",
       "      <td>31.500000</td>\n",
       "      <td>46.000000</td>\n",
       "      <td>1.000000</td>\n",
       "    </tr>\n",
       "    <tr>\n",
       "      <th>25%</th>\n",
       "      <td>2001.500000</td>\n",
       "      <td>35.833333</td>\n",
       "      <td>48.500000</td>\n",
       "      <td>1.000000</td>\n",
       "    </tr>\n",
       "    <tr>\n",
       "      <th>50%</th>\n",
       "      <td>2007.000000</td>\n",
       "      <td>37.000000</td>\n",
       "      <td>57.000000</td>\n",
       "      <td>3.000000</td>\n",
       "    </tr>\n",
       "    <tr>\n",
       "      <th>75%</th>\n",
       "      <td>2009.500000</td>\n",
       "      <td>45.500000</td>\n",
       "      <td>58.000000</td>\n",
       "      <td>4.000000</td>\n",
       "    </tr>\n",
       "    <tr>\n",
       "      <th>max</th>\n",
       "      <td>2012.000000</td>\n",
       "      <td>48.000000</td>\n",
       "      <td>63.500000</td>\n",
       "      <td>7.000000</td>\n",
       "    </tr>\n",
       "  </tbody>\n",
       "</table>\n",
       "</div>"
      ],
      "text/plain": [
       "              Year  % People supporting rights of Americans to own guns  \\\n",
       "count    11.000000                                          11.000000     \n",
       "mean   2005.090909                                          39.969697     \n",
       "std       5.906853                                           5.907066     \n",
       "min    1993.000000                                          31.500000     \n",
       "25%    2001.500000                                          35.833333     \n",
       "50%    2007.000000                                          37.000000     \n",
       "75%    2009.500000                                          45.500000     \n",
       "max    2012.000000                                          48.000000     \n",
       "\n",
       "       % People supporting control on gun ownership  \\\n",
       "count                                     11.000000   \n",
       "mean                                      54.333333   \n",
       "std                                        5.832381   \n",
       "min                                       46.000000   \n",
       "25%                                       48.500000   \n",
       "50%                                       57.000000   \n",
       "75%                                       58.000000   \n",
       "max                                       63.500000   \n",
       "\n",
       "       Total Number of Mass Shootings  \n",
       "count                       11.000000  \n",
       "mean                         3.090909  \n",
       "std                          1.972539  \n",
       "min                          1.000000  \n",
       "25%                          1.000000  \n",
       "50%                          3.000000  \n",
       "75%                          4.000000  \n",
       "max                          7.000000  "
      ]
     },
     "execution_count": 12,
     "metadata": {},
     "output_type": "execute_result"
    }
   ],
   "source": [
    "##3.1 Read data\n",
    "gun_ownership_vs_gun_control=pd.read_csv(path + '\\Redesign_chart16_gun_ownership_vs_gun_control.csv')\n",
    "\n",
    "## 3.2 Make a new column Year from DATE Column and then convert year column to type numeric\n",
    "gun_ownership_vs_gun_control['Year'] = gun_ownership_vs_gun_control['DATE'].str.split(',').str[1]\n",
    "gun_ownership_vs_gun_control.Year = pd.to_numeric(gun_ownership_vs_gun_control.Year, errors='coerce')\n",
    "\n",
    "\n",
    "## 3.3 Make one new dataframe with columns aggregated by average for each year\n",
    "gun_ownership_vs_gun_control_avg = gun_ownership_vs_gun_control.groupby('Year', as_index=False).agg({'Protect right to own guns':'mean',\\\n",
    "                                                                        'Control gun ownership':'mean'})\n",
    "\n",
    "mass_shootings=pd.read_csv(path + '\\\\Redesign_chart16_mass_shootings.csv')\n",
    "## 3.2 Make a new column Year from DATE Column and then convert year column to type numeric\n",
    "\n",
    "mass_shootings=mass_shootings.loc[(mass_shootings.Year >= 1993) & (mass_shootings.Year <= 2012) , :]\n",
    "mass_shootings=mass_shootings[['Year','Case']]\n",
    "mass_shootings=mass_shootings.groupby('Year', as_index=False).count() \n",
    "\n",
    "Redesign_chart16_data  =gun_ownership_vs_gun_control_avg.merge(mass_shootings, left_on = \"Year\", right_on = \"Year\")\n",
    "\n",
    "##Filter years at least one mass shooting\n",
    "\n",
    "Redesign_chart16_refined_data =Redesign_chart16_data.loc[(Redesign_chart16_data.Case >= 1), :]\n",
    "Redesign_chart16_refined_data.columns=[['Year', '% People supporting rights of Americans to own guns',\\\n",
    "                                        '% People supporting control on gun ownership','Total Number of Mass Shootings']]\n",
    "##Download CSV\n",
    "Redesign_chart16_refined_data.to_csv('Redesign_chart16_refined_data.csv', index=False)\n",
    "\n",
    "##Key statistics \n",
    "Redesign_chart16_refined_data.describe()\n"
   ]
  },
  {
   "cell_type": "markdown",
   "metadata": {},
   "source": [
    "Warrant: Since the unit of comparison was same, I used dual axis line chart  to warrant my claim with '% People supporting control on gun ownership' & '% People supporting rights of Americans to own guns' on the x axis and 'Year' on the Y axis.I plotted the chart using Tableau which is available in the following link and screen shot below.I also added a trend line.\n",
    "I plotted the chart using Tableau which is available in the following link and screen shot below.\n",
    "\n",
    "https://public.tableau.com/profile/sikhardas#!/vizhome/Revised_Redesign_Chart16/Revised_Redesign_Chart16?publish=yes"
   ]
  },
  {
   "cell_type": "code",
   "execution_count": 15,
   "metadata": {},
   "outputs": [
    {
     "data": {
      "text/html": [
       "<table><tr><td><img src=\"https://github.com/Sikhadasr/MSIS2629_SIKHA/blob/master/IMAGES/Revised_Redesign_Chart16.png?raw=true\" style=\"width=200px;\"/></td>              </tr></table>"
      ],
      "text/plain": [
       "<IPython.core.display.HTML object>"
      ]
     },
     "metadata": {},
     "output_type": "display_data"
    }
   ],
   "source": [
    "display(HTML('<table><tr><td><img src=\"https://github.com/Sikhadasr/MSIS2629_SIKHA/blob/master/IMAGES/Revised_Redesign_Chart16.png?raw=true\" style=\"width=200px;\"/></td> \\\n",
    "             </tr></table>'))\n",
    "\n"
   ]
  },
  {
   "cell_type": "markdown",
   "metadata": {
    "collapsed": true
   },
   "source": [
    "\n",
    "**Backing**\n",
    "To see the effect of Mass shooting I considered year where there was atleast mass shooting.But from the trend we see that inspte of Mass Shooting.As we can see from the plot, surveyed people for support of “control gun ownership” show a decreasing trend overtime whereas people for support of “protect right to own guns” showed an increasing trend which strongly supports our claim.\n",
    "\n",
    "** Qualifier**:\n",
    "1.Year describes the years in which survey was taken. i.e from 1993 to 2012 and claim is true for the same time period.\n",
    "2.I am considering data for the year from 1993 to 2012 where there is atleast one mass shooting.\n",
    "    \n",
    "**Rebuttle**:If we include more data poinrs it may give different result. However, I have specifically assumed for the purpose of redesign that all the gun control laws have equal weightage."
   ]
  },
  {
   "cell_type": "markdown",
   "metadata": {
    "collapsed": true
   },
   "source": [
    "**Deceptive Design Chart No.1 of Vox Article**:"
   ]
  },
  {
   "cell_type": "code",
   "execution_count": 16,
   "metadata": {},
   "outputs": [
    {
     "data": {
      "text/html": [
       "<table><tr><td><img src=\"https://github.com/Sikhadasr/MSIS2629_SIKHA/blob/master/IMAGES/11.png?raw=true\" style=\"width=200px;\"/></td>              </tr></table>"
      ],
      "text/plain": [
       "<IPython.core.display.HTML object>"
      ]
     },
     "metadata": {},
     "output_type": "display_data"
    }
   ],
   "source": [
    "display(HTML('<table><tr><td><img src=\"https://github.com/Sikhadasr/MSIS2629_SIKHA/blob/master/IMAGES/11.png?raw=true\" style=\"width=200px;\"/></td> \\\n",
    "             </tr></table>'))"
   ]
  },
  {
   "cell_type": "markdown",
   "metadata": {},
   "source": [
    "**Original vs 1st Deceptive Design**:\n",
    "\n",
    "1.\n",
    "**Claim as per Chart No.1 of the Original Article**(Ref https://www.vox.com/policy-and-politics/2017/10/2/16399418/us-gun-violence-statistics-maps-charts): America has six times as many firearm homicides as Canada, and nearly 16 times as many as Germany, The US is an outlier on gun violence because it has way more guns than other developed nations.\n",
    "\n",
    "Rebuttal Claim as per Deception: Compared to Honduras which is among the most violent countries in the world, America has 23 times less firearm homicides and nearly 6 times less firearm homicides as compared to South Africa, Brazil. So, firearm homicides in America is very less as compared to violent countries in the world.\n",
    "\n",
    "2.Since in the vox article they gave no explanation why they compares only the 14 countries and there are many countries where homicide by firearm rate more than US, so for the 1st revised version I decided to create a deceptive version **based on  countries where homicide by firearm rate is more than 25 Million**(as changing baseline of comparison as per GQM).\n",
    "\n",
    "3. As warrant of the claim  original chart  used number of people to show the homicide rate, more is the number of people more the homicide rate and vice versa which is looks bit weird also it consumes lot of space. To make my argument more clear and easy to understand I used bar chart where length of bar represents the homicide rate.More is the length of the bar more is the homicide rate.\n",
    "\n",
    "4.Though they have a title but they have  no information about x and y axis data in the original chart, I incorporated labels for both X & Y axis(Principle 5 of Analytical Design)"
   ]
  },
  {
   "cell_type": "code",
   "execution_count": 17,
   "metadata": {},
   "outputs": [
    {
     "data": {
      "text/html": [
       "<table><tr><td><img src=\"https://github.com/Sikhadasr/MSIS2629_SIKHA/blob/master/IMAGES/12.png?raw=true\" style=\"width=200px;\"/></td>              </tr></table>"
      ],
      "text/plain": [
       "<IPython.core.display.HTML object>"
      ]
     },
     "metadata": {},
     "output_type": "display_data"
    }
   ],
   "source": [
    "display(HTML('<table><tr><td><img src=\"https://github.com/Sikhadasr/MSIS2629_SIKHA/blob/master/IMAGES/12.png?raw=true\" style=\"width=200px;\"/></td> \\\n",
    "             </tr></table>'))"
   ]
  },
  {
   "cell_type": "markdown",
   "metadata": {},
   "source": [
    "\n",
    "\n",
    "\n",
    "**Making of revised deceptive design of Chart-1**:\n",
    "\n",
    "**1st Deceptive Design vs Revised Deceptive Design**\n",
    "Considering the following flaws in my first redesign versions i considered the revision:\n",
    "1. I decided to create a deceptive version **based on  countries where homicide by firearm rate is more than 25 Million**(as per GQM); however, i did not included that in the chart.So in my revised version I would like to add description of the qualifier(Principle 5 of Analytical Design).\n",
    "\n",
    "2. I used hue to to show different countries but Instead of that I would like to show saturation since the comparison is based on numerical data.\n",
    "\n",
    "3. To make my claim more stronger I would like to comapre the US homicide rate with the median rate and  mean average for all countries (Principle 5 of Analytical Design).\n",
    "\n",
    "4. In the 1st version, I had background colour in the chart. Since, backgroung colour is not carrying any meaning and hence not necessary I will remove the same in the revised version.(Use of color and background).\n",
    "\n",
    "**Audience**: Audience for my revised design is people against Gun control laws  in the United States whose goal is to protect their right of gun ownership (audience model)\n",
    "\n",
    "**Claim for revised deceptive design **:Compared to Honduras which is among the most violent countries in the world, America has 23 times less firearm homicides and nearly 6 times less firearm homicides as compared to South Africa, Brazil. So, firearm homicides in America is very less as compared to violent countries in the world.Also firearm homicides in US is less than mean & median of the the most violent nations in the world(as per audience model goal should meet want of the audience and take care of the audience fear)\n",
    "\n",
    "**Data **: To meet the need of the goal(as per GQM)  I have collected data from the following sources:\n",
    "Data Collection:\n",
    "\n",
    "**Step-1**, Data Collection:Following the link in the 1st chart, I could collect the data at the following link:\n",
    "https://docs.google.com/spreadsheets/d/1chqUZHuY6cXYrRYkuE0uwXisGaYvr7durZHJhpLGycs/edit#gid=0.\n",
    "                            \n",
    "**Step-2**, Data Wrangling:\n",
    "\n",
    "1.1 First I read the csv from my local folder.The dataset has **Country/Territory,ISO code,Source, % of homicides by firearm, Number of homicides by firearm,Homicide by firearm rate per 100,000 pop,Rank by rate of ownership,Average firearms per 100 people,Average total all civilian firearms** as Columns and each row represents one country.\n",
    "\n",
    "1.2 I removed the NA and duplicate values.\n",
    "\n",
    "1.3 Thereafter, I made one dataframe containg only necessary columns(i.e.Country/Territory','Homicide by firearm rate per 100,000 pop columns) to make the chart.\n",
    "\n",
    "1.4 As considered in the original article, I also got Homicide by firearm rate per 1 million people.\n",
    "\n",
    "1.5 I got the final dataframe, containing only countries with  homicide by firearm rate per 1 million people >=25 and sorted in descending order\n",
    "\n",
    "**Step-3**, Plot: At last, I made bar plot with homicide by firearm rate per 1 million people in the x-axis and countries on the Y axis.\n",
    "\n",
    "**Detailed steps are shown below**:."
   ]
  },
  {
   "cell_type": "code",
   "execution_count": 16,
   "metadata": {},
   "outputs": [
    {
     "data": {
      "text/html": [
       "<div>\n",
       "<style>\n",
       "    .dataframe thead tr:only-child th {\n",
       "        text-align: right;\n",
       "    }\n",
       "\n",
       "    .dataframe thead th {\n",
       "        text-align: left;\n",
       "    }\n",
       "\n",
       "    .dataframe tbody tr th {\n",
       "        vertical-align: top;\n",
       "    }\n",
       "</style>\n",
       "<table border=\"1\" class=\"dataframe\">\n",
       "  <thead>\n",
       "    <tr style=\"text-align: right;\">\n",
       "      <th></th>\n",
       "      <th>Homicide by firearm rate per 100,000 pop</th>\n",
       "      <th>Homicide by firearm rate per 1 million people</th>\n",
       "    </tr>\n",
       "  </thead>\n",
       "  <tbody>\n",
       "    <tr>\n",
       "      <th>count</th>\n",
       "      <td>27.000000</td>\n",
       "      <td>27.000000</td>\n",
       "    </tr>\n",
       "    <tr>\n",
       "      <th>mean</th>\n",
       "      <td>17.177778</td>\n",
       "      <td>171.777778</td>\n",
       "    </tr>\n",
       "    <tr>\n",
       "      <th>std</th>\n",
       "      <td>15.912503</td>\n",
       "      <td>159.125034</td>\n",
       "    </tr>\n",
       "    <tr>\n",
       "      <th>min</th>\n",
       "      <td>2.630000</td>\n",
       "      <td>26.300000</td>\n",
       "    </tr>\n",
       "    <tr>\n",
       "      <th>25%</th>\n",
       "      <td>4.685000</td>\n",
       "      <td>46.850000</td>\n",
       "    </tr>\n",
       "    <tr>\n",
       "      <th>50%</th>\n",
       "      <td>12.730000</td>\n",
       "      <td>127.300000</td>\n",
       "    </tr>\n",
       "    <tr>\n",
       "      <th>75%</th>\n",
       "      <td>24.455000</td>\n",
       "      <td>244.550000</td>\n",
       "    </tr>\n",
       "    <tr>\n",
       "      <th>max</th>\n",
       "      <td>68.430000</td>\n",
       "      <td>684.300000</td>\n",
       "    </tr>\n",
       "  </tbody>\n",
       "</table>\n",
       "</div>"
      ],
      "text/plain": [
       "       Homicide by firearm rate per 100,000 pop  \\\n",
       "count                                 27.000000   \n",
       "mean                                  17.177778   \n",
       "std                                   15.912503   \n",
       "min                                    2.630000   \n",
       "25%                                    4.685000   \n",
       "50%                                   12.730000   \n",
       "75%                                   24.455000   \n",
       "max                                   68.430000   \n",
       "\n",
       "       Homicide by firearm rate per 1 million people  \n",
       "count                                      27.000000  \n",
       "mean                                      171.777778  \n",
       "std                                       159.125034  \n",
       "min                                        26.300000  \n",
       "25%                                        46.850000  \n",
       "50%                                       127.300000  \n",
       "75%                                       244.550000  \n",
       "max                                       684.300000  "
      ]
     },
     "execution_count": 16,
     "metadata": {},
     "output_type": "execute_result"
    }
   ],
   "source": [
    "## 1.1 Read Data\n",
    "firearm_deaths_world = pd.read_csv(path + '\\Deception_Chart1_World firearms murders and ownership - Sheet 1.csv')\n",
    "\n",
    "##1.2: Remove NA and duplicates(if any)\n",
    "firearm_deaths_world=firearm_deaths_world.dropna()\n",
    "firearm_deaths_world=firearm_deaths_world.drop_duplicates()\n",
    "\n",
    "##1.3: Make one dataframe with Country/Territory','Homicide by firearm rate per 100,000 pop columns\n",
    "firearm_deaths_world_final = firearm_deaths_world.loc[:,['Country/Territory','Homicide by firearm rate per 100,000 pop']]\n",
    "\n",
    "##1.4 As considered in the original article, I also got Homicide by firearm rate per 1 million people \n",
    "firearm_deaths_world_final['Homicide by firearm rate per 1 million people'] = \\\n",
    "firearm_deaths_world_final['Homicide by firearm rate per 100,000 pop']*10\n",
    "\n",
    "#1.5 Make one dataframe,  having countries with  homicide by firearm rate per 1 million people >=25 and sort in descending order\n",
    "Deception_chart1_refined_data=\\\n",
    "firearm_deaths_world_final.loc[firearm_deaths_world_final['Homicide by firearm rate per 1 million people']>=25]\n",
    "\n",
    "Deception_chart1_refined_data=\\\n",
    "Deception_chart1_refined_data.sort_values(by='Homicide by firearm rate per 1 million people', ascending=False)\n",
    "\n",
    "##Download CSV\n",
    "Deception_chart1_refined_data.to_csv('Deception_chart1_refined_data.csv', index=False)\n",
    "\n",
    "##Key statistics \n",
    "Deception_chart1_refined_data.describe()\n"
   ]
  },
  {
   "cell_type": "markdown",
   "metadata": {
    "collapsed": true
   },
   "source": [
    "**Warrant**:\n",
    "Since Bar chart is the right choice to make comparison between the variables or categories with each other,I used bar chart to warrant my claim with 'Homicide by firearm rate per 1 million people' on the x axis and 'Country/Territory' on the Y axis. To make my warrant more stronger I added mean and median values of 'Homicide by firearm rate per 1 million people' of theses top countries in respect of Homicide by firearm rate per 1 million people.I plotted the chart using Tableau which is available in the following link and screen shot below."
   ]
  },
  {
   "cell_type": "markdown",
   "metadata": {
    "collapsed": true
   },
   "source": [
    "Tableau Link:\n",
    "https://public.tableau.com/profile/sikhardas#!/vizhome/Revised_Deceptive_Chart1/Sheet1?publish=yes\n"
   ]
  },
  {
   "cell_type": "code",
   "execution_count": 18,
   "metadata": {},
   "outputs": [
    {
     "data": {
      "text/html": [
       "<table><tr><td><img src=\"https://github.com/Sikhadasr/MSIS2629_SIKHA/blob/master/IMAGES/Revised_Deceptive_Chart1.png?raw=true\" style=\"width=200px;\"/></td>              </tr></table>"
      ],
      "text/plain": [
       "<IPython.core.display.HTML object>"
      ]
     },
     "metadata": {},
     "output_type": "display_data"
    }
   ],
   "source": [
    "display(HTML('<table><tr><td><img src=\"https://github.com/Sikhadasr/MSIS2629_SIKHA/blob/master/IMAGES/Revised_Deceptive_Chart1.png?raw=true\" style=\"width=200px;\"/></td> \\\n",
    "             </tr></table>'))\n"
   ]
  },
  {
   "cell_type": "markdown",
   "metadata": {
    "collapsed": true
   },
   "source": [
    "**Backing**:**The length of each bar is proportional to the value of the variable.From the above chart it is seen that, length of bar for US very small both in comparison to the most violent nations in the world and also in respect of mean & median of  these the most violent nations in the world.\n",
    "\n",
    "Therefore, the above chart clearly and strongly supports my argument that **Compared to Honduras which is among the most violent countries in the world, America has 23 times less firearm homicides and nearly 6 times less firearm homicides as compared to South Africa, Brazil. Also firearm homicides in US is less than mean  & median of  the the most violent nations in the world.So, firearm homicides in America is very less as compared to violent countries in the world\n",
    "\n",
    "\n",
    "**Qualifier**:The above claim is true for Countries with firearm homicide rate more tham 25 million.\n",
    "\n",
    "       \n",
    "**Rebuttal**:If we plot the data for entire world position of US may shift a bit but thats not going to change the overall claim."
   ]
  },
  {
   "cell_type": "markdown",
   "metadata": {
    "collapsed": true
   },
   "source": [
    "**2.0 Deceptive Design Chart No.10 of Vox Article**:"
   ]
  },
  {
   "cell_type": "code",
   "execution_count": 19,
   "metadata": {},
   "outputs": [
    {
     "data": {
      "text/html": [
       "<table><tr><td><img src=\"https://github.com/Sikhadasr/MSIS2629_SIKHA/blob/master/IMAGES/101.png?raw=true\" style=\"width=300px;\"/></td>              </tr></table>"
      ],
      "text/plain": [
       "<IPython.core.display.HTML object>"
      ]
     },
     "metadata": {},
     "output_type": "display_data"
    }
   ],
   "source": [
    "display(HTML('<table><tr><td><img src=\"https://github.com/Sikhadasr/MSIS2629_SIKHA/blob/master/IMAGES/101.png?raw=true\" style=\"width=300px;\"/></td> \\\n",
    "             </tr></table>'))"
   ]
  },
  {
   "cell_type": "markdown",
   "metadata": {},
   "source": [
    "**Original vs 1st Deceptive Design**:\n",
    "1.\n",
    "**Claim as per Chart No.10 of the Original Article**(Ref https://www.vox.com/policy-and-politics/2017/10/2/16399418/us-gun-violence-statistics-maps-charts): Most gun deaths are suicides.\n",
    "\n",
    "**Rebuttal Claim as per 1st Deceptive Design  of Chart NO.10**: Gun deaths due to suicides and homicides are nearly equal.\n",
    "\n",
    "2. The claim in  the vox article was based on Number of deaths due to homicide and suicide for the period from 1999 to 2015.\n",
    "\n",
    "Since my claim was to show that Gun deaths due to suicides and homicides are nearly equal so following GQM approach I choose data for for the years 1999 to 2007 where there is compartively less gap between homicide and suicide deaths .This intentional cut of patricular period of time has helped me to arrive at the deceptive claim.This graph gives the impression of consistently nearly same values for suicides and homicides, but in context these values are anomalous.\n",
    "\n",
    "3.Changing the y-axis maximum affects how the graph appears. I increased the range of Y axis to 300,000 from 24,000 in the original graph.A higher maximum has helped to decrease the gap between the suicide and homicides.But i kept starting point at 0 so as to make it not look deceptive.\n",
    "\n",
    "4. In the original chart x& y axis was not labeled. I labeled x & y axis in my deceptive design.(Principal #5 of Analytic Design.)\n",
    "\n",
    "5.I also changed  the ratio of a graph's dimensions to  affect  the graph's appearance and  flatten the lines more. "
   ]
  },
  {
   "cell_type": "code",
   "execution_count": 20,
   "metadata": {},
   "outputs": [
    {
     "data": {
      "text/html": [
       "<table><tr><td><img src=\"https://github.com/Sikhadasr/MSIS2629_SIKHA/blob/master/IMAGES/102.png?raw=true\" style=\"width=300px;\"/></td>              </tr></table>"
      ],
      "text/plain": [
       "<IPython.core.display.HTML object>"
      ]
     },
     "metadata": {},
     "output_type": "display_data"
    }
   ],
   "source": [
    "display(HTML('<table><tr><td><img src=\"https://github.com/Sikhadasr/MSIS2629_SIKHA/blob/master/IMAGES/102.png?raw=true\" style=\"width=300px;\"/></td> \\\n",
    "             </tr></table>'))"
   ]
  },
  {
   "cell_type": "markdown",
   "metadata": {},
   "source": [
    "\n",
    "\n",
    "**Making of revised deceptive design of Chart-10**: \n",
    "\n",
    "**First Version vs Revised Version**:\n",
    "\n",
    "1.In my 1st deceptive design I showed how homicide and suicide deaths are almost equal over the period 1999 to 2007.\n",
    "However considering the goal we dont need to show how homicide and suicide deaths are varying over the years. I will group firearm deaths due to suicides and homicides and plot only their means to have a easy and clear understanding(Multvariate analysis principle3 of analytic design)\n",
    "\n",
    "2.In my first version, I have not added details of source, x and y variables which I would like to incorporate(principle5 of analytic design).\n",
    "\n",
    "3. In the 1st version, I had background colour in the chart. Since, backgroung colour is not carrying any meaning and hence not necessary I will remove the same in the revised version.(Use of color and background).\n",
    "\n",
    "**Audience**: Audience for my revised redesign is vox article readers who wants to know how number of firearm deaths due to homicide and suicide(Audience Model)\n",
    "\n",
    "**Rebuttal Claim as per 1st Deceptive Design  of Chart NO.10**:Gun deaths due to suicides and homicides are nearly equal.\n",
    "\n",
    "**Data **: To meet the need of the goal(as per GQM)  I have collected data from the following sources:\n",
    "Step-1, Data Collection: Following the link in the chart no.10, I could collect the data at the following link: https://webappa.cdc.gov/sasweb/ncipc/mortrate10_us.html\n",
    "=\n",
    "While Downloading the dataset for homicides, options I choose were:Intent-Homicide,Cause-Firearm, Specific Options:Years of Report-1999 to 2015,Output Group: Year. \n",
    "\n",
    "While Downloading the dataset for suicides, options I choose were:Intent-Suicide,Cause-Firearm, Specific Options:Years of Report-1999 to 2015,Output Group: Year. \n",
    "\n",
    "Step-2, Data Wrangling:\n",
    "\n",
    "2.1 First I read the dataset for suicide and homicide separetely from my local folder.Both,the dataset has Sex,Race, State,Ethnicity,Age Group,First Year,Last Year,Cause of Death,Year,Deaths,Population,Crude Rate as Columns and each row represents data for a year for the particular cause of death.\n",
    "\n",
    "2.2 Thereafter, I merged the two datasets and removed the NA and duplicate values.\n",
    "\n",
    "2.3 I converted year column to type numeric.\n",
    "\n",
    "2.4 I made the final dataframe containing only the years from 1999 to 2007.\n",
    "\n",
    "2.5 Thereafter, I grouped the data into...\n",
    "\n",
    "Step-3, Plot: At last, I made point plot with 'Year' on the x-axis, 'Deaths' on the y-axis, 'Cause of Death' as hue.\n",
    "\n",
    "\n",
    "#Refine data: I got mean number of deaths for homicide and suicide for all the years since goal is to show that Gun deaths due to suicides and homicides are nearly equal not how they are varying over the years.\n",
    "\n",
    "Detailed steps are shown below:"
   ]
  },
  {
   "cell_type": "code",
   "execution_count": 20,
   "metadata": {},
   "outputs": [
    {
     "data": {
      "text/html": [
       "<div>\n",
       "<style>\n",
       "    .dataframe thead tr:only-child th {\n",
       "        text-align: right;\n",
       "    }\n",
       "\n",
       "    .dataframe thead th {\n",
       "        text-align: left;\n",
       "    }\n",
       "\n",
       "    .dataframe tbody tr th {\n",
       "        vertical-align: top;\n",
       "    }\n",
       "</style>\n",
       "<table border=\"1\" class=\"dataframe\">\n",
       "  <thead>\n",
       "    <tr style=\"text-align: right;\">\n",
       "      <th></th>\n",
       "      <th>Mean Number of Deaths</th>\n",
       "    </tr>\n",
       "  </thead>\n",
       "  <tbody>\n",
       "    <tr>\n",
       "      <th>count</th>\n",
       "      <td>2.000000</td>\n",
       "    </tr>\n",
       "    <tr>\n",
       "      <th>mean</th>\n",
       "      <td>14343.388889</td>\n",
       "    </tr>\n",
       "    <tr>\n",
       "      <th>std</th>\n",
       "      <td>3608.680174</td>\n",
       "    </tr>\n",
       "    <tr>\n",
       "      <th>min</th>\n",
       "      <td>11791.666667</td>\n",
       "    </tr>\n",
       "    <tr>\n",
       "      <th>25%</th>\n",
       "      <td>13067.527778</td>\n",
       "    </tr>\n",
       "    <tr>\n",
       "      <th>50%</th>\n",
       "      <td>14343.388889</td>\n",
       "    </tr>\n",
       "    <tr>\n",
       "      <th>75%</th>\n",
       "      <td>15619.250000</td>\n",
       "    </tr>\n",
       "    <tr>\n",
       "      <th>max</th>\n",
       "      <td>16895.111111</td>\n",
       "    </tr>\n",
       "  </tbody>\n",
       "</table>\n",
       "</div>"
      ],
      "text/plain": [
       "       Mean Number of Deaths\n",
       "count               2.000000\n",
       "mean            14343.388889\n",
       "std              3608.680174\n",
       "min             11791.666667\n",
       "25%             13067.527778\n",
       "50%             14343.388889\n",
       "75%             15619.250000\n",
       "max             16895.111111"
      ]
     },
     "execution_count": 20,
     "metadata": {},
     "output_type": "execute_result"
    }
   ],
   "source": [
    "## 2.1.1 Read firearm_homicide Data\n",
    "firearm_homicide = pd.read_csv(path + '\\Deception_Chart10_results_firearm_homicide.csv')\n",
    "\n",
    "## 2.1.2 Read firearm_suicide Data\n",
    "firearm_suicide = pd.read_csv(path + '\\Deception_Chart10_results_firearm_suicide.csv')\n",
    "\n",
    "#2.2 Merge the datasets and drop na and duplicates thereafter.\n",
    "\n",
    "mdf =firearm_homicide.append(firearm_suicide)\n",
    "mdf=mdf.dropna()\n",
    "mdf=mdf.drop_duplicates()\n",
    "\n",
    "## 2.3 Convert year to numeric\n",
    "mdf.Year = pd.to_numeric(mdf.Year, errors='coerce')\n",
    "\n",
    "## 2.4  Make final dataframe containing data only for the years 1999 to 2007\n",
    "mdf_final=mdf.loc[(mdf.Year >= 1999) & (mdf.Year <= 2007) , :]\n",
    "\n",
    "##Thereafter, I group by the 'cause of death' column and get mean value of number of deaths\n",
    "Deception_chart10_refined_data= mdf_final.groupby('Cause of Death', as_index=False).agg({'Deaths':'mean'})\n",
    "Deception_chart10_refined_data.columns=[['Cause of Death', 'Mean Number of Deaths']]\n",
    "\n",
    "##Download CSV\n",
    "Deception_chart10_refined_data.to_csv('Deception_chart10_refined_data.csv', index=False)\n",
    "\n",
    "##Key statistics \n",
    "Deception_chart10_refined_data.describe()\n"
   ]
  },
  {
   "cell_type": "markdown",
   "metadata": {},
   "source": [
    "**Warrant**: Since Bar chart is the right choice to make comparison between the variables or categories with each other,I used bar chart to warrant my claim with 'Cause of Death' on the x axis and 'Mean Number of Deaths' on the Y axis.I plotted the chart using Tableau which is available in the following link and screen shot below.\n",
    "\n",
    "https://public.tableau.com/profile/sikhardas#!/vizhome/Revised_Deceptive_Chart10/Sheet1?publish=yes"
   ]
  },
  {
   "cell_type": "code",
   "execution_count": 21,
   "metadata": {},
   "outputs": [
    {
     "data": {
      "text/html": [
       "<table><tr><td><img src=\"https://github.com/Sikhadasr/MSIS2629_SIKHA/blob/master/IMAGES/Revised_Deceptive_Chart10.png?raw=true\" style=\"width=200px;\"/></td>              </tr></table>"
      ],
      "text/plain": [
       "<IPython.core.display.HTML object>"
      ]
     },
     "metadata": {},
     "output_type": "display_data"
    }
   ],
   "source": [
    "display(HTML('<table><tr><td><img src=\"https://github.com/Sikhadasr/MSIS2629_SIKHA/blob/master/IMAGES/Revised_Deceptive_Chart10.png?raw=true\" style=\"width=200px;\"/></td> \\\n",
    "             </tr></table>'))\n"
   ]
  },
  {
   "cell_type": "markdown",
   "metadata": {},
   "source": [
    "**Backing**:\n",
    "\n",
    "1. The length of each bar is proportional to the value of the variable.Since length of bars for both firearm homicide and suicide are almost equal, It is very clear from the above revised deceptive design firearm homicide and suicide are almost equal.\n",
    "\n",
    "\n",
    "2. Also I have taken mean of firearm and homicide deaths from 1999 to 2007. And we see that for more than a decade Firearm death and homicide death are almost equal.Which obviously stregnthens my claim(Data Point for around two decades)\n",
    "\n",
    "Qualifier:The above claim is true specifically for the time period from 1999 to 2007.\n",
    "\n",
    "Rebuttal:If we plot the data for an increases timeframe there may be some variation in the plot; however I have specifically mentioned time period in my chart."
   ]
  },
  {
   "cell_type": "markdown",
   "metadata": {},
   "source": [
    "\n",
    "\n",
    "**3.0 3rd Deception**:\n",
    "\n",
    "\n"
   ]
  },
  {
   "cell_type": "code",
   "execution_count": 22,
   "metadata": {},
   "outputs": [
    {
     "data": {
      "text/html": [
       "<table><tr><td><img src=\"https://github.com/Sikhadasr/MSIS2629_SIKHA/blob/master/IMAGES/151.png?raw=true\" style=\"width=300px;\"/></td>              </tr></table>"
      ],
      "text/plain": [
       "<IPython.core.display.HTML object>"
      ]
     },
     "metadata": {},
     "output_type": "display_data"
    }
   ],
   "source": [
    "display(HTML('<table><tr><td><img src=\"https://github.com/Sikhadasr/MSIS2629_SIKHA/blob/master/IMAGES/151.png?raw=true\" style=\"width=300px;\"/></td> \\\n",
    "             </tr></table>'))"
   ]
  },
  {
   "cell_type": "markdown",
   "metadata": {},
   "source": [
    "**Chart-15:Original vs First Deceptive version*\n",
    "**Claim as per Chart No.15 of the Original Article**(Ref https://www.vox.com/policy-and-politics/2017/10/2/16399418/us-gun-violence-statistics-maps-charts): Support for gun ownership has sharply increased since the early 2000s, the chart claims that Americans have shifted from mostly supporting the concept of gun control to greater support for protecting “the right of Americans to own guns\n",
    "\n",
    "**Rebuttal Claim as per 1st Deception**: Support for gun ownership has remained the same since the early 2000s, and since the early 2000 supporters for the concept of gun control and supporters for protecting the right of Americans were always the same. \n",
    "\n",
    "\n",
    "**Chart-15:Original vs First Deceptive version**:\n",
    "\n",
    "1.In the original article, data was considered for the period from 2000 to 2017. \n",
    "\n",
    "However, considering my goal  I took data for only those years(i.e. 2010 to 2017) where there is no sharp  increase in number of supporters and also number of supporters is almost the same for concept of gun control and supporters for protecting the right of Americans .This intentional cut of patricular period of time has helped me to arrive at the deceptive claim.(as per GQM)\n",
    "\n",
    "2. Though in the beginning of the chart it says, % saying it is more important to, however there was no  Y-axis in the original chart.Also, They used colours to show the two grops i.e. 'Control gun ownership' & 'Protect the right to own gun ownership' and did not specifically mentioned labels.Absence of Y-axis and Labels makes it difficult to comprehend in the first glance or 5 seconds.\n",
    "\n",
    "So I include Y -axis as well as Labels in my first deceptive version, which makes it easy to comprehend(Principle 5 of Analytics Design).\n",
    "\n",
    "3. Original chart did not include meaning of numbers in the x-axis. At the first glance, it is difficult to understand what numbers in the x-axis refers. So to avoid confusion, I include labels for x-axis in the first deceptive design.(Principle 5 of Analytics Design).\n",
    "\n",
    "4. Changing the y-axis maximum affects how the graph appears. I increased the range of Y axis.But i kept starting point at 0 so as to make it not look deceptive."
   ]
  },
  {
   "cell_type": "code",
   "execution_count": 23,
   "metadata": {},
   "outputs": [
    {
     "data": {
      "text/html": [
       "<table><tr><td><img src=\"https://github.com/Sikhadasr/MSIS2629_SIKHA/blob/master/IMAGES/152.png?raw=true\" style=\"width=300px;\"/></td>              </tr></table>"
      ],
      "text/plain": [
       "<IPython.core.display.HTML object>"
      ]
     },
     "metadata": {},
     "output_type": "display_data"
    }
   ],
   "source": [
    "display(HTML('<table><tr><td><img src=\"https://github.com/Sikhadasr/MSIS2629_SIKHA/blob/master/IMAGES/152.png?raw=true\" style=\"width=300px;\"/></td> \\\n",
    "             </tr></table>'))"
   ]
  },
  {
   "cell_type": "markdown",
   "metadata": {},
   "source": [
    "\n",
    "\n",
    "\n",
    "**Making-Of: Revised Deceptive Version of Chart-15 of Vox Article**\n",
    "\n",
    "**Chart-15:First Deceptive version vs Final Deceptive version* :\n",
    "Considering the following flaws in my first redesign versions i considered the revision:\n",
    "\n",
    "1. I would like to add source and other context in my revised design which is missing in my first version.((Principle 5 of Analytics Design).\n",
    "\n",
    "\n",
    "2. In the 1st version, I had background colour in the chart. Since, backgroung colour is not carrying any meaning and hence not necessary I will remove the same in the revised version.(Use of color and background)\n",
    "\n",
    "3. Also in my first version i used scale of y axis upto 500. Since scale is in percentage so I would like to limit the Y axis to 100 i.e. 100%.\n",
    "\n",
    "4. In the 1st version, I had background colour in the chart. Since, backgroung colour is not carrying any meaning and hence not necessary I will remove the same in the revised version.(Use of color and background).\n",
    "\n",
    "5. To make my claim more stronger I added trend line to my chart.\n",
    "\n",
    "**Audience**: Audience for my revised redesign is Vox article readers who wants to know how support for gun control is varying(audience model)\n",
    "\n",
    "**Rebuttal Claim as per 1st Deceptive Design  of Chart NO.15**:Support for gun ownership has remained the same since the early 2010s, and since the early 2010 supporters for the concept of gun control and supporters for protecting the right of Americans were always the same.\n",
    "\n",
    "**3.0 Data**To meet the need of the goal(as per GQM)  I have followed the steps below:\n",
    "**Step-1**, Data Collection:\n",
    "Following the link in the chart no.15, I could collect the data at the following link:\n",
    "http://www.people-press.org/datasets/\n",
    "\n",
    "\n",
    "Dataset was found from  PEW RESEARCH CENTER,APRIL  5-11,2017 POLITICAL SURVEY as reponse to Q.80 . Since the dataset was in pdf form.So I first converted  the data to excel.Extracted data is available as Deception_chart15_GUN_OWNERSHIP_VS_GUN_CONTROL.csv at https://drive.google.com/open?id=1Zd82VJLR0VdymR1YvNA0m86L7lqy6fNT                                                           \n",
    "                                     \n",
    "**Step-2**, Data Wrangling:\n",
    "\n",
    "3.1 First I read the dataset  from my local folder.Both,the dataset has **DATA, Protect right to own guns, Control gun ownership** as Columns and each row represents data for random months of year .\n",
    "\n",
    "3.2 I made a new column Year from DATE Column and then convert year column to type numeric.\n",
    "\n",
    "3.3 Next, I made  one new dataframe with columns aggregated by average for each year.\n",
    "\n",
    "3.4 Finally, I made the final dataframe containing data only for the years 2010 to 2017\n",
    "\n",
    "\n",
    "**Detailed steps are shown below**:"
   ]
  },
  {
   "cell_type": "markdown",
   "metadata": {},
   "source": []
  },
  {
   "cell_type": "code",
   "execution_count": 24,
   "metadata": {},
   "outputs": [
    {
     "data": {
      "text/html": [
       "<div>\n",
       "<style>\n",
       "    .dataframe thead tr:only-child th {\n",
       "        text-align: right;\n",
       "    }\n",
       "\n",
       "    .dataframe thead th {\n",
       "        text-align: left;\n",
       "    }\n",
       "\n",
       "    .dataframe tbody tr th {\n",
       "        vertical-align: top;\n",
       "    }\n",
       "</style>\n",
       "<table border=\"1\" class=\"dataframe\">\n",
       "  <thead>\n",
       "    <tr style=\"text-align: right;\">\n",
       "      <th></th>\n",
       "      <th>Year</th>\n",
       "      <th>% people supporting rights of Americans to own guns</th>\n",
       "      <th>% people supporting control on gun ownership</th>\n",
       "    </tr>\n",
       "  </thead>\n",
       "  <tbody>\n",
       "    <tr>\n",
       "      <th>count</th>\n",
       "      <td>8.00000</td>\n",
       "      <td>8.000000</td>\n",
       "      <td>8.000000</td>\n",
       "    </tr>\n",
       "    <tr>\n",
       "      <th>mean</th>\n",
       "      <td>2013.50000</td>\n",
       "      <td>47.812500</td>\n",
       "      <td>48.333333</td>\n",
       "    </tr>\n",
       "    <tr>\n",
       "      <th>std</th>\n",
       "      <td>2.44949</td>\n",
       "      <td>2.273794</td>\n",
       "      <td>1.851640</td>\n",
       "    </tr>\n",
       "    <tr>\n",
       "      <th>min</th>\n",
       "      <td>2010.00000</td>\n",
       "      <td>45.666667</td>\n",
       "      <td>46.000000</td>\n",
       "    </tr>\n",
       "    <tr>\n",
       "      <th>25%</th>\n",
       "      <td>2011.75000</td>\n",
       "      <td>46.250000</td>\n",
       "      <td>47.000000</td>\n",
       "    </tr>\n",
       "    <tr>\n",
       "      <th>50%</th>\n",
       "      <td>2013.50000</td>\n",
       "      <td>47.000000</td>\n",
       "      <td>47.666667</td>\n",
       "    </tr>\n",
       "    <tr>\n",
       "      <th>75%</th>\n",
       "      <td>2015.25000</td>\n",
       "      <td>48.625000</td>\n",
       "      <td>50.083333</td>\n",
       "    </tr>\n",
       "    <tr>\n",
       "      <th>max</th>\n",
       "      <td>2017.00000</td>\n",
       "      <td>52.000000</td>\n",
       "      <td>51.000000</td>\n",
       "    </tr>\n",
       "  </tbody>\n",
       "</table>\n",
       "</div>"
      ],
      "text/plain": [
       "             Year  % people supporting rights of Americans to own guns  \\\n",
       "count     8.00000                                           8.000000     \n",
       "mean   2013.50000                                          47.812500     \n",
       "std       2.44949                                           2.273794     \n",
       "min    2010.00000                                          45.666667     \n",
       "25%    2011.75000                                          46.250000     \n",
       "50%    2013.50000                                          47.000000     \n",
       "75%    2015.25000                                          48.625000     \n",
       "max    2017.00000                                          52.000000     \n",
       "\n",
       "       % people supporting control on gun ownership  \n",
       "count                                      8.000000  \n",
       "mean                                      48.333333  \n",
       "std                                        1.851640  \n",
       "min                                       46.000000  \n",
       "25%                                       47.000000  \n",
       "50%                                       47.666667  \n",
       "75%                                       50.083333  \n",
       "max                                       51.000000  "
      ]
     },
     "execution_count": 24,
     "metadata": {},
     "output_type": "execute_result"
    }
   ],
   "source": [
    "##3.1 Read CSV\n",
    "gun_control_vs_own=pd.read_csv(path + '\\\\Deception_chart15_GUN_OWNERSHIP_VS_GUN_CONTROL.csv')\n",
    "\n",
    "## 3.2 Make a new column Year from DATE Column and then convert year column to type numeric\n",
    "gun_control_vs_own['Year'] = gun_control_vs_own['DATE'].str.split(',').str[1]\n",
    "gun_control_vs_own.Year = pd.to_numeric(gun_control_vs_own.Year, errors='coerce')\n",
    "\n",
    "\n",
    "\n",
    "## 3.3 Make one new dataframe with columns aggregated by average for each year\n",
    "gun_control_vs_own_avg = gun_control_vs_own.groupby('Year', as_index=False).agg({'Protect right to own guns':'mean','Control gun ownership':'mean'})\n",
    "\n",
    "## 3.4  Make final dataframe containing data only for the years 2010 to 2017 AND rename columns.\n",
    "Deception_chart15_refined_data=gun_control_vs_own_avg.loc[(gun_control_vs_own_avg.Year >=2010) & (gun_control_vs_own_avg.Year <= 2017) , :]\n",
    "\n",
    "\n",
    "\n",
    "Deception_chart15_refined_data.columns=[['Year','% people supporting rights of Americans to own guns',\\\n",
    "                                     '% people supporting control on gun ownership']]\n",
    "## 3.5 Download CSV\n",
    "Deception_chart15_refined_data.to_csv('Deception_chart15_refined_data.csv', index=False)\n",
    "##3.6 Key statistics \n",
    "Deception_chart15_refined_data.describe()"
   ]
  },
  {
   "cell_type": "markdown",
   "metadata": {
    "collapsed": true
   },
   "source": [
    "**Warrant**, \n",
    "\n",
    "Plot: Since the unit of comparison was same, I used dual axis line chart  to warrant my claim with '% People supporting control on gun ownership' & '% People supporting rights of Americans to own guns' on the x axis and 'Year' on the Y axis.I plotted the chart using Tableau which is available in the following link and screen shot below.I also added a trend line.\n",
    "\n",
    "https://public.tableau.com/profile/sikhardas#!/vizhome/Revise_Deceptive_chart15/Sheet1?publish=yes\n"
   ]
  },
  {
   "cell_type": "code",
   "execution_count": 24,
   "metadata": {},
   "outputs": [
    {
     "data": {
      "text/html": [
       "<table><tr><td><img src=\"https://github.com/Sikhadasr/MSIS2629_SIKHA/blob/master/IMAGES/Revised_Deceptive_Chart15.png?raw=true\" style=\"width=200px;\"/></td>              </tr></table>"
      ],
      "text/plain": [
       "<IPython.core.display.HTML object>"
      ]
     },
     "metadata": {},
     "output_type": "display_data"
    }
   ],
   "source": [
    "display(HTML('<table><tr><td><img src=\"https://github.com/Sikhadasr/MSIS2629_SIKHA/blob/master/IMAGES/Revised_Deceptive_Chart15.png?raw=true\" style=\"width=200px;\"/></td> \\\n",
    "             </tr></table>'))\n",
    "\n"
   ]
  },
  {
   "cell_type": "markdown",
   "metadata": {},
   "source": [
    "# **Backing**:\n",
    "From above it is seen that, support for gun ownership has remained almost the same since the early 2010s. Also, since the early 2010 supporters for the concept of gun control and supporters for protecting the right of Americans were  almost the same with slight increase/decrease sometimes for gun control and sometimes for protecting the right.Addiion of trend line makes the claim more stronger\n",
    "\n",
    "**Qualifier** The above claim hold true for only seven years period from 2010 to 2017 and the claim is meant to be for Vox readers .\n",
    "\n",
    "**Rebuttle**:One of the possible rebuttal is time frame considered for the claim. If we increase the time frame from 2010-2017 to 1993-2007 we will get to see a different trand. I have specifically mentioned that the claim is true for the period from 2010 to 2017.\n",
    "\n"
   ]
  }
 ],
 "metadata": {
  "kernelspec": {
   "display_name": "Python 3",
   "language": "python",
   "name": "python3"
  },
  "language_info": {
   "codemirror_mode": {
    "name": "ipython",
    "version": 3
   },
   "file_extension": ".py",
   "mimetype": "text/x-python",
   "name": "python",
   "nbconvert_exporter": "python",
   "pygments_lexer": "ipython3",
   "version": "3.6.6"
  }
 },
 "nbformat": 4,
 "nbformat_minor": 2
}
