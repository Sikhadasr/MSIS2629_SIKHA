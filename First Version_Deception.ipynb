{
 "cells": [
  {
   "cell_type": "markdown",
   "metadata": {},
   "source": [
    "**First Version Deception**___**Submitted By:Sikha Rani Das**"
   ]
  },
  {
   "cell_type": "markdown",
   "metadata": {},
   "source": [
    "Ref Article:https://www.vox.com/policy-and-politics/2017/10/2/16399418/us-gun-violence-statistics-maps-charts"
   ]
  },
  {
   "cell_type": "code",
   "execution_count": 1,
   "metadata": {
    "collapsed": false
   },
   "outputs": [
    {
     "name": "stdout",
     "output_type": "stream",
     "text": [
      "Populating the interactive namespace from numpy and matplotlib\n"
     ]
    }
   ],
   "source": [
    "import pandas as pd\n",
    "import numpy as np\n",
    "import seaborn as sns\n",
    "%pylab inline\n",
    "\n",
    "import sklearn as sk\n",
    "import sklearn.tree as tree\n",
    "from IPython.display import Image\n",
    "import pydotplus\n",
    "path =\"C:\\Users\\shikh\\Desktop\\\\viz\\IP\\Deception\""
   ]
  },
  {
   "cell_type": "markdown",
   "metadata": {},
   "source": [
    "**1.0 1st Deceptive Design**: \n",
    "\n",
    "**Claim as per Chart No.1 of the Original Article**(Ref https://www.vox.com/policy-and-politics/2017/10/2/16399418/us-gun-violence-statistics-maps-charts): America has six times as many firearm homicides as Canada, and nearly 16 times as many as Germany, The US is an outlier on gun violence because it has way more guns than other developed nations.\n",
    "\n",
    "**Rebuttal Claim as per Deception**: Compared to Honduras which is among the most violent countries in the world, America has 23 times less firearm homicides and nearly 6 times less firearm homicides as compared to South Africa, Brazil. So, firearm homicides in America is very less as compared to  violent countries in the world.\n"
   ]
  },
  {
   "cell_type": "markdown",
   "metadata": {},
   "source": [
    "**Making-Of**:\n",
    "\n",
    "**Step-1**, Data Collection:Following the link in the 1st chart, I could collect the data at the following link:\n",
    "https://docs.google.com/spreadsheets/d/1chqUZHuY6cXYrRYkuE0uwXisGaYvr7durZHJhpLGycs/edit#gid=0. Data is also available as Deception_Chart1_World firearms murders and ownership - Sheet 1.csv at https://drive.google.com/open?id=1Zd82VJLR0VdymR1YvNA0m86L7lqy6fNT .\n",
    "                            \n",
    "**Step-2**, Data Wrangling:\n",
    "\n",
    "1.1 First I read the csv from my local folder.The dataset has **Country/Territory,ISO code,Source, % of homicides by firearm, Number of homicides by firearm,Homicide by firearm rate per 100,000 pop,Rank by rate of ownership,Average firearms per 100 people,Average total all civilian firearms** as Columns and each row represents one country.\n",
    "\n",
    "1.2 I removed the NA and duplicate values.\n",
    "\n",
    "1.3 Thereafter, I made one dataframe containg only necessary columns(i.e.Country/Territory','Homicide by firearm rate per 100,000 pop columns) to make the chart.\n",
    "\n",
    "1.4 As considered in the original article, I also got Homicide by firearm rate per 1 million people.\n",
    "\n",
    "1.5 I got the final dataframe, containing only countries with  homicide by firearm rate per 1 million people >=25 and sorted in descending order\n",
    "\n",
    "**Step-3**, Plot: At last, I made bar plot with homicide by firearm rate per 1 million people in the x-axis and countries on the Y axis.\n",
    "\n",
    "**Detailed steps are shown below**:"
   ]
  },
  {
   "cell_type": "code",
   "execution_count": 2,
   "metadata": {
    "collapsed": false
   },
   "outputs": [
    {
     "name": "stdout",
     "output_type": "stream",
     "text": [
      "<class 'pandas.core.frame.DataFrame'>\n",
      "RangeIndex: 185 entries, 0 to 184\n",
      "Data columns (total 9 columns):\n",
      "Country/Territory                           185 non-null object\n",
      "ISO code                                    184 non-null object\n",
      "Source                                      116 non-null object\n",
      "% of homicides by firearm                   116 non-null float64\n",
      "Number of homicides by firearm              116 non-null float64\n",
      "Homicide by firearm rate per 100,000 pop    116 non-null float64\n",
      "Rank by rate of ownership                   176 non-null float64\n",
      "Average firearms per 100 people             176 non-null float64\n",
      "Average total all civilian firearms         176 non-null float64\n",
      "dtypes: float64(6), object(3)\n",
      "memory usage: 10.9+ KB\n"
     ]
    }
   ],
   "source": [
    "## 1.1 Read Data\n",
    "firearm_deaths_world = pd.read_csv(path + '\\Deception_Chart1_World firearms murders and ownership - Sheet 1.csv')\n",
    "\n",
    "##Info about the dataset\n",
    "firearm_deaths_world.info()    "
   ]
  },
  {
   "cell_type": "code",
   "execution_count": 3,
   "metadata": {
    "collapsed": false
   },
   "outputs": [
    {
     "data": {
      "text/html": [
       "<div>\n",
       "<style>\n",
       "    .dataframe thead tr:only-child th {\n",
       "        text-align: right;\n",
       "    }\n",
       "\n",
       "    .dataframe thead th {\n",
       "        text-align: left;\n",
       "    }\n",
       "\n",
       "    .dataframe tbody tr th {\n",
       "        vertical-align: top;\n",
       "    }\n",
       "</style>\n",
       "<table border=\"1\" class=\"dataframe\">\n",
       "  <thead>\n",
       "    <tr style=\"text-align: right;\">\n",
       "      <th></th>\n",
       "      <th>Country/Territory</th>\n",
       "      <th>Homicide by firearm rate per 100,000 pop</th>\n",
       "      <th>Homicide by firearm rate per 1 million people</th>\n",
       "    </tr>\n",
       "  </thead>\n",
       "  <tbody>\n",
       "    <tr>\n",
       "      <th>72</th>\n",
       "      <td>Honduras</td>\n",
       "      <td>68.43</td>\n",
       "      <td>684.3</td>\n",
       "    </tr>\n",
       "    <tr>\n",
       "      <th>51</th>\n",
       "      <td>El Salvador</td>\n",
       "      <td>39.90</td>\n",
       "      <td>399.0</td>\n",
       "    </tr>\n",
       "    <tr>\n",
       "      <th>83</th>\n",
       "      <td>Jamaica</td>\n",
       "      <td>39.40</td>\n",
       "      <td>394.0</td>\n",
       "    </tr>\n",
       "    <tr>\n",
       "      <th>179</th>\n",
       "      <td>Venezuela</td>\n",
       "      <td>38.97</td>\n",
       "      <td>389.7</td>\n",
       "    </tr>\n",
       "    <tr>\n",
       "      <th>67</th>\n",
       "      <td>Guatemala</td>\n",
       "      <td>34.81</td>\n",
       "      <td>348.1</td>\n",
       "    </tr>\n",
       "  </tbody>\n",
       "</table>\n",
       "</div>"
      ],
      "text/plain": [
       "    Country/Territory  Homicide by firearm rate per 100,000 pop  \\\n",
       "72           Honduras                                     68.43   \n",
       "51        El Salvador                                     39.90   \n",
       "83            Jamaica                                     39.40   \n",
       "179         Venezuela                                     38.97   \n",
       "67          Guatemala                                     34.81   \n",
       "\n",
       "     Homicide by firearm rate per 1 million people  \n",
       "72                                           684.3  \n",
       "51                                           399.0  \n",
       "83                                           394.0  \n",
       "179                                          389.7  \n",
       "67                                           348.1  "
      ]
     },
     "execution_count": 3,
     "metadata": {},
     "output_type": "execute_result"
    }
   ],
   "source": [
    "##1.2: Remove NA and duplicates(if any)\n",
    "firearm_deaths_world=firearm_deaths_world.dropna()\n",
    "firearm_deaths_world=firearm_deaths_world.drop_duplicates()\n",
    "\n",
    "##1.3: Make one dataframe with Country/Territory','Homicide by firearm rate per 100,000 pop columns\n",
    "firearm_deaths_world_final = firearm_deaths_world.loc[:,['Country/Territory','Homicide by firearm rate per 100,000 pop']]\n",
    "\n",
    "##1.4 As considered in the original article, I also got Homicide by firearm rate per 1 million people \n",
    "firearm_deaths_world_final['Homicide by firearm rate per 1 million people'] = \\\n",
    "firearm_deaths_world_final['Homicide by firearm rate per 100,000 pop']*10\n",
    "\n",
    "##1.5 Make one dataframe,  having countries with  homicide by firearm rate per 1 million people >=25 and sort in descending order\n",
    "\n",
    "firearm_deaths_world_final=\\\n",
    "firearm_deaths_world_final.loc[firearm_deaths_world_final['Homicide by firearm rate per 1 million people']>=25]\n",
    "firearm_deaths_world_final=\\\n",
    "firearm_deaths_world_final.sort_values(by='Homicide by firearm rate per 1 million people', ascending=False)\n",
    "firearm_deaths_world_final.head()"
   ]
  },
  {
   "cell_type": "code",
   "execution_count": 4,
   "metadata": {
    "collapsed": false
   },
   "outputs": [
    {
     "data": {
      "text/plain": [
       "<matplotlib.text.Text at 0x11eb8990>"
      ]
     },
     "execution_count": 4,
     "metadata": {},
     "output_type": "execute_result"
    },
    {
     "data": {
      "image/png": "[encoded data removed]",
      "text/plain": [
       "<matplotlib.figure.Figure at 0x11e3a850>"
      ]
     },
     "metadata": {},
     "output_type": "display_data"
    }
   ],
   "source": [
    "##Plot the chart\n",
    "\n",
    "plot =sns.factorplot(y='Country/Territory', data=firearm_deaths_world_final,\\\n",
    "               x='Homicide by firearm rate per 1 million people',aspect=.9,size=5, kind='bar')\n",
    "\n",
    "##set title\n",
    "plt.title('HOMICIDES BY FIREARM RATE')"
   ]
  },
  {
   "cell_type": "markdown",
   "metadata": {},
   "source": [
    "\n",
    "In my opinion, the above chart can be used to decept audience because it shows clearly US has less firearm homicides as compared to other violent nations in the world.\n",
    "\n",
    "**Detours for Deception**: \n",
    "1. I changed the baseline of comparison from developed countries to countries with Homicide by firearm rate per 1 million people more than 25 million.\n"
   ]
  },
  {
   "cell_type": "markdown",
   "metadata": {},
   "source": [
    "**2.0 2nd Deceptive Design**:\n",
    "\n",
    "**Claim as per Chart No.10 of the Original Article**(Ref https://www.vox.com/policy-and-politics/2017/10/2/16399418/us-gun-violence-statistics-maps-charts): Most gun deaths are suicides.\n",
    "\n",
    "**Rebuttal Claim as per Deception**: Gun deaths due to suicides and homicides are nearly equal."
   ]
  },
  {
   "cell_type": "markdown",
   "metadata": {},
   "source": [
    "**Making-Of**:\n",
    "\n",
    "**Step-1**, Data Collection:\n",
    "Following the link in the chart no.10, I could collect the data at the following link:\n",
    "https://docs.google.com/spreadsheets/d/1chqUZHuY6cXYrRYkuE0uwXisGaYvr7durZHJhpLGycs/edit#gid=0\n",
    "\n",
    "**While Downloading the dataset for homicides**, options I choose were:Intent-Homicide,Cause-Firearm, Specific Options:Years of Report-1999 to 2015,Output Group: Year. Data is also available as Deception_Chart10_results_firearm_homicide.csv at https://drive.google.com/open?id=1Zd82VJLR0VdymR1YvNA0m86L7lqy6fNT .\n",
    "\n",
    "**While Downloading the dataset for suicides**, options I choose were:Intent-Suicide,Cause-Firearm, Specific Options:Years of Report-1999 to 2015,Output Group: Year.  Data is also available as Deception_Chart10_results_firearm_suicide.csv at https://drive.google.com/open?id=1Zd82VJLR0VdymR1YvNA0m86L7lqy6fNT .\n",
    "                             \n",
    "**Step-2**, Data Wrangling:\n",
    "\n",
    "2.1 First I read the dataset for suicide and homicide separetely from my local folder.Both,the dataset has **Sex,Race,\tState,Ethnicity,Age Group,First Year,Last Year,Cause of Death,Year,Deaths,Population,Crude Rate** as Columns and each row represents data for a year for the particular cause of death.\n",
    "\n",
    "2.2 Thereafter, I merged the two datasets and removed the NA and duplicate values.\n",
    "\n",
    "2.3 I converted year column to type numeric.\n",
    "\n",
    "2.4 I made the final dataframe containing only the years from 1999 to 2007.\n",
    "\n",
    "**Step-3**, Plot: At last, I made point plot with 'Year' on the x-axis, 'Deaths' on the y-axis, 'Cause of Death' as hue.\n",
    "\n",
    "**Detailed steps are shown below**:"
   ]
  },
  {
   "cell_type": "code",
   "execution_count": 5,
   "metadata": {
    "collapsed": false
   },
   "outputs": [
    {
     "name": "stdout",
     "output_type": "stream",
     "text": [
      "<class 'pandas.core.frame.DataFrame'>\n",
      "RangeIndex: 18 entries, 0 to 17\n",
      "Data columns (total 12 columns):\n",
      "Sex               18 non-null object\n",
      "Race              18 non-null object\n",
      "State             18 non-null object\n",
      "Ethnicity         18 non-null object\n",
      "Age Group         18 non-null object\n",
      "First Year        18 non-null int64\n",
      "Last Year         18 non-null int64\n",
      "Cause of Death    18 non-null object\n",
      "Year              17 non-null float64\n",
      "Deaths            18 non-null int64\n",
      "Population        18 non-null int64\n",
      "Crude Rate        18 non-null float64\n",
      "dtypes: float64(2), int64(4), object(6)\n",
      "memory usage: 1.3+ KB\n"
     ]
    }
   ],
   "source": [
    "## 2.1.1 Read firearm_homicide Data\n",
    "firearm_homicide = pd.read_csv(path + '\\Deception_Chart10_results_firearm_homicide.csv')\n",
    "## Info about Dataset\n",
    "firearm_homicide.info()"
   ]
  },
  {
   "cell_type": "code",
   "execution_count": 6,
   "metadata": {
    "collapsed": false
   },
   "outputs": [
    {
     "name": "stdout",
     "output_type": "stream",
     "text": [
      "<class 'pandas.core.frame.DataFrame'>\n",
      "RangeIndex: 18 entries, 0 to 17\n",
      "Data columns (total 12 columns):\n",
      "Sex               18 non-null object\n",
      "Race              18 non-null object\n",
      "State             18 non-null object\n",
      "Ethnicity         18 non-null object\n",
      "Age Group         18 non-null object\n",
      "First Year        18 non-null int64\n",
      "Last Year         18 non-null int64\n",
      "Cause of Death    18 non-null object\n",
      "Year              17 non-null float64\n",
      "Deaths            18 non-null int64\n",
      "Population        18 non-null int64\n",
      "Crude Rate        18 non-null float64\n",
      "dtypes: float64(2), int64(4), object(6)\n",
      "memory usage: 1.3+ KB\n"
     ]
    }
   ],
   "source": [
    "## 2.1.2 Read firearm_suicide Data\n",
    "firearm_suicide = pd.read_csv(path + '\\Deception_Chart10_results_firearm_suicide.csv')\n",
    "## Info about Dataset\n",
    "firearm_homicide.info()"
   ]
  },
  {
   "cell_type": "code",
   "execution_count": 7,
   "metadata": {
    "collapsed": false
   },
   "outputs": [],
   "source": [
    "#2.2 Merge the datasets and drop na and duplicates thereafter.\n",
    "\n",
    "mdf =firearm_homicide.append(firearm_suicide)\n",
    "mdf=mdf.dropna()\n",
    "mdf=mdf.drop_duplicates()\n",
    "\n",
    "## 2.3 Convert year to numeric\n",
    "mdf.Year = pd.to_numeric(mdf.Year, errors='coerce')\n",
    "\n",
    "## 2.4  Make final dataframe containing data only for the years 1999 to 2007\n",
    "mdf_final=mdf.loc[(mdf.Year >= 1999) & (mdf.Year <= 2007) , :]\n"
   ]
  },
  {
   "cell_type": "code",
   "execution_count": 8,
   "metadata": {
    "collapsed": false
   },
   "outputs": [
    {
     "data": {
      "text/plain": [
       "<seaborn.axisgrid.FacetGrid at 0x11f01cd0>"
      ]
     },
     "execution_count": 8,
     "metadata": {},
     "output_type": "execute_result"
    },
    {
     "data": {
      "image/png": "[encoded data removed]",
      "text/plain": [
       "<matplotlib.figure.Figure at 0x1210c610>"
      ]
     },
     "metadata": {},
     "output_type": "display_data"
    }
   ],
   "source": [
    "##Plot the chart\n",
    "g = sns.factorplot(x='Year', y= 'Deaths', hue='Cause of Death',kind='point',data=mdf_final, size=3, aspect=4)\n",
    "\n",
    "##Set y label\n",
    "g.set(ylabel=\"Number of Deaths\")\n",
    "\n",
    "##Set Title\n",
    "g.set(title=\"Firearm suicides versus homicides\")\n",
    "\n",
    "## Increase the y limit to 300000\n",
    "g.set(ylim=(0, 300000))"
   ]
  },
  {
   "cell_type": "markdown",
   "metadata": {},
   "source": [
    "\n",
    "In the above chart, it can be seen that firearm deaths for homicide and suicide are almost equal as opposed to Most gun deaths are suicides in chart no.10 of vox article.\n",
    "\n",
    "**Detours for deceptions**:\n",
    "\n",
    "1.To manipulate the trend, I took data only for the years 1999 to 2007.This intentional cut of patricular period of time has helped me to arrive at the deceptive claim.This graph gives the impression of consistently nearly same values for suicides and homicides, but in context these values are anomalous.\n",
    "\n",
    "2.Changing the y-axis maximum affects how the graph appears. I increased the range of Y axis to 300,000 from 24,000 in the original graph.A higher maximum has helped to decrease the gap between the suicide and homicides.But i kept starting point at 0 so as to make it not look deceptive.\n",
    "\n",
    "3.I also changed  the ratio of a graph's dimensions to  affect  the graph's appearance. I kept the aspect ratio of the chart at 3 to flatten the lines more. \n",
    "\n"
   ]
  },
  {
   "cell_type": "markdown",
   "metadata": {},
   "source": [
    "**3.0 3rd Deception**:\n",
    "\n",
    "**Claim as per Chart No.15 of the Original Article**(Ref https://www.vox.com/policy-and-politics/2017/10/2/16399418/us-gun-violence-statistics-maps-charts): Support for gun ownership has sharply increased since the early 2000s, the chart claims that Americans have shifted from mostly supporting the concept of gun control to greater support for protecting “the right of Americans to own guns\n",
    "\n",
    "**Rebuttal Claim as per Deception**: Support for gun ownership has remained the same since the early 2000s, and since the early 2000 supporters for the concept of gun control and supporters for protecting the right of Americans were always the same. "
   ]
  },
  {
   "cell_type": "markdown",
   "metadata": {},
   "source": [
    "**Making-Of**:\n",
    "**Step-1**, Data Collection:\n",
    "Following the link in the chart no.15, I could collect the data at the following link:\n",
    "http://www.people-press.org/datasets/\n",
    "\n",
    "\n",
    "Dataset was found from  PEW RESEARCH CENTER,APRIL  5-11,2017 POLITICAL SURVEY as reponse to Q.80 . Since the dataset was in pdf form.So I first converted  the data to excel.Extracted data is available as Deception_chart15_GUN_OWNERSHIP_VS_GUN_CONTROL.csv at https://drive.google.com/open?id=1Zd82VJLR0VdymR1YvNA0m86L7lqy6fNT                                                           \n",
    "                                     \n",
    "**Step-2**, Data Wrangling:\n",
    "\n",
    "3.1 First I read the dataset  from my local folder.Both,the dataset has **DATA, Protect right to own guns, Control gun ownership** as Columns and each row represents data for random months of year .\n",
    "\n",
    "3.2 I made a new column Year from DATE Column and then convert year column to type numeric.\n",
    "\n",
    "3.3 Next, I made  one new dataframe with columns aggregated by average for each year.\n",
    "\n",
    "3.4 Finally, I made the final dataframe containing data only for the years 2010 to 2017\n",
    "\n",
    "**Step-3**, Plot: At last, I Plot the chart with Year on the x-axix, 'Protect right to own guns' &'Control gun ownership' on Y-axis.\n",
    "\n",
    "\n",
    "**Detailed steps are shown below**:"
   ]
  },
  {
   "cell_type": "code",
   "execution_count": 9,
   "metadata": {
    "collapsed": false
   },
   "outputs": [
    {
     "name": "stdout",
     "output_type": "stream",
     "text": [
      "<class 'pandas.core.frame.DataFrame'>\n",
      "RangeIndex: 28 entries, 0 to 27\n",
      "Data columns (total 3 columns):\n",
      "DATE                         28 non-null object\n",
      "Protect right to own guns    28 non-null int64\n",
      "Control gun ownership        28 non-null int64\n",
      "dtypes: int64(2), object(1)\n",
      "memory usage: 596.0+ bytes\n"
     ]
    }
   ],
   "source": [
    "gun_control_vs_own=pd.read_csv(path + '\\Deception_chart15_GUN_OWNERSHIP_VS_GUN_CONTROL.csv')\n",
    "gun_control_vs_own.info(5)"
   ]
  },
  {
   "cell_type": "code",
   "execution_count": 10,
   "metadata": {
    "collapsed": true
   },
   "outputs": [],
   "source": [
    "## 3.2 Make a new column Year from DATE Column and then convert year column to type numeric\n",
    "gun_control_vs_own['Year'] = gun_control_vs_own['DATE'].str.split('-').str[1]\n",
    "gun_control_vs_own.Year = pd.to_numeric(gun_control_vs_own.Year, errors='coerce')\n",
    "gun_control_vs_own.head()\n",
    "\n",
    "## 3.3 Make one new dataframe with columns aggregated by average for each year\n",
    "gun_control_vs_own_avg = gun_control_vs_own.groupby('Year', as_index=False).agg({'Protect right to own guns':'mean','Control gun ownership':'mean'})\n",
    "\n",
    "## 3.4  Make final dataframe containing data only for the years 2010 to 2017\n",
    "gun_control_vs_own_final=gun_control_vs_own_avg.loc[(gun_control_vs_own_avg.Year >= 10) & (gun_control_vs_own_avg.Year <= 17) , :]"
   ]
  },
  {
   "cell_type": "code",
   "execution_count": 11,
   "metadata": {
    "collapsed": false
   },
   "outputs": [
    {
     "data": {
      "text/plain": [
       "[<matplotlib.text.Text at 0x1206a070>]"
      ]
     },
     "execution_count": 11,
     "metadata": {},
     "output_type": "execute_result"
    },
    {
     "data": {
      "image/png": "[encoded data removed]",
      "text/plain": [
       "<matplotlib.figure.Figure at 0x1229d650>"
      ]
     },
     "metadata": {},
     "output_type": "display_data"
    }
   ],
   "source": [
    "##Create tuple to be used for xticks (use loop to create tuple programatically)\n",
    "t = []\n",
    "for i in range(0,300,50):\n",
    "    t.append(i)\n",
    "t_t = tuple(t)\n",
    "\n",
    "\n",
    "##Plot the chart with Year on the x-axix, 'Protect right to own guns' &'Control gun ownership' on Y-axis.\n",
    "h=gun_control_vs_own_final.plot(x='Year', y=['Protect right to own guns','Control gun ownership'],\\\n",
    "                                kind='bar',figsize=(10,4),title='Gun_Right_vs_control',xticks=t_t)\n",
    "##Increase range of Y axis \n",
    "h.set(ylim=(0, 500))\n",
    "\n",
    "h.set(ylabel=\"Percentage of Supporters\")"
   ]
  },
  {
   "cell_type": "markdown",
   "metadata": {},
   "source": [
    "From above it is seen that, support for gun ownership has remained almost the same since the early 2000s. Also, since the early 2000 supporters for the concept of gun control and supporters for protecting the right of Americans were  almost the same with slight increase/decrease sometimes for gun control and sometimes for protecting the right.\n",
    "\n",
    "**Detour for Deception**:\n",
    "1. Changing the y-axis maximum affects how the graph appears. I increased the range of Y axis.But i kept starting point at 0 so as to make it not look deceptive.\n",
    "\n",
    "2. To manipulate the trend, I took data for only those years(i.e. 2010 to 2017) where there is no increase in number of supporters and also number of supporters is almost the same for concept of gun control and supporters for protecting the right of Americans .This intentional cut of patricular period of time has helped me to arrive at the deceptive claim.\n",
    "\n"
   ]
  },
  {
   "cell_type": "markdown",
   "metadata": {
    "collapsed": true
   },
   "source": [
    "\n",
    "4.0 **Road-map with future features/enhancements**:\n",
    "    \n",
    "1. I would like to make the charts interactive so that users can get more information by scrolling over or clicking on the chart area.\n",
    "2. I would like to explore similar deceptive charts using other vizualization tools such as D3.js.\n",
    "3. I would also like to explore the charts using other deceptive techniques."
   ]
  }
 ],
 "metadata": {
  "kernelspec": {
   "display_name": "Python 2",
   "language": "python",
   "name": "python2"
  },
  "language_info": {
   "codemirror_mode": {
    "name": "ipython",
    "version": 2
   },
   "file_extension": ".py",
   "mimetype": "text/x-python",
   "name": "python",
   "nbconvert_exporter": "python",
   "pygments_lexer": "ipython2",
   "version": "2.7.11"
  }
 },
 "nbformat": 4,
 "nbformat_minor": 2
}
